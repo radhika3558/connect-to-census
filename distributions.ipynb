{
 "cells": [
  {
   "attachments": {},
   "cell_type": "markdown",
   "metadata": {},
   "source": [
    "# 1-D Exploratory Data Analysis\n",
    "\n",
    "In this notebook, do some EDA in one dimension. Pick a column  (or a set of columns) you're interested in looking at. Calculate some summary statistics (like mean,median,min,max,sd). Then, make some plots to visualize the distribution of the data. Distirbution plots include things like histograms, boxplots, dotplots, beeswarms, and violin plots. Review [ggplot-intro](https://github.com/data4news/ggplot-intro) for examples of these kinds of distribution plots."
   ]
  },
  {
   "attachments": {},
   "cell_type": "markdown",
   "metadata": {},
   "source": [
    "### Standard Python and R imports"
   ]
  },
  {
   "cell_type": "code",
   "execution_count": 1,
   "metadata": {},
   "outputs": [],
   "source": [
    "%load_ext rpy2.ipython\n",
    "%load_ext autoreload\n",
    "%autoreload 2\n",
    "\n",
    "%matplotlib inline  \n",
    "from matplotlib import rcParams\n",
    "rcParams['figure.figsize'] = (16, 100)\n",
    "\n",
    "import warnings\n",
    "from rpy2.rinterface import RRuntimeWarning\n",
    "warnings.filterwarnings(\"ignore\") # Ignore all warnings\n",
    "# warnings.filterwarnings(\"ignore\", category=RRuntimeWarning) # Show some warnings\n",
    "\n",
    "import pandas as pd\n",
    "import numpy as np\n",
    "import matplotlib.pyplot as plt\n",
    "from IPython.display import display, HTML"
   ]
  },
  {
   "cell_type": "code",
   "execution_count": 2,
   "metadata": {},
   "outputs": [
    {
     "data": {
      "application/javascript": "// Disable auto-scrolling\nIPython.OutputArea.prototype._should_scroll = function(lines) {\n    return false;\n}\n",
      "text/plain": [
       "<IPython.core.display.Javascript object>"
      ]
     },
     "metadata": {},
     "output_type": "display_data"
    }
   ],
   "source": [
    "%%javascript\n",
    "// Disable auto-scrolling\n",
    "IPython.OutputArea.prototype._should_scroll = function(lines) {\n",
    "    return false;\n",
    "}"
   ]
  },
  {
   "cell_type": "code",
   "execution_count": 3,
   "metadata": {},
   "outputs": [
    {
     "name": "stdout",
     "output_type": "stream",
     "text": [
      "── Attaching core tidyverse packages ──────────────────────── tidyverse 2.0.0 ──\n",
      "✔ dplyr     1.1.4     ✔ readr     2.1.5\n",
      "✔ forcats   1.0.0     ✔ stringr   1.5.1\n",
      "✔ ggplot2   3.4.4     ✔ tibble    3.2.1\n",
      "✔ lubridate 1.9.3     ✔ tidyr     1.3.0\n",
      "✔ purrr     1.0.2     \n",
      "── Conflicts ────────────────────────────────────────── tidyverse_conflicts() ──\n",
      "✖ dplyr::filter() masks stats::filter()\n",
      "✖ dplyr::lag()    masks stats::lag()\n",
      "ℹ Use the conflicted package (<http://conflicted.r-lib.org/>) to force all conflicts to become errors\n"
     ]
    },
    {
     "data": {
      "text/plain": [
       "Loading required package: tidyverse\n"
      ]
     },
     "metadata": {},
     "output_type": "display_data"
    }
   ],
   "source": [
    "%%R\n",
    "\n",
    "# My commonly used R imports\n",
    "\n",
    "require('tidyverse')"
   ]
  },
  {
   "attachments": {},
   "cell_type": "markdown",
   "metadata": {},
   "source": [
    "## Load the data"
   ]
  },
  {
   "cell_type": "code",
   "execution_count": 4,
   "metadata": {},
   "outputs": [
    {
     "name": "stdout",
     "output_type": "stream",
     "text": [
      "# A tibble: 4 × 39\n",
      "        GEOID NAME    moe population means_transit med_inc CRASH.DATE CRASH.TIME\n",
      "        <dbl> <chr> <dbl>      <dbl>         <dbl>   <dbl> <date>     <time>    \n",
      "1 36005000100 Cens…   702       6661            NA      NA NA            NA     \n",
      "2 36005000100 Cens…    18         NA             0      NA NA            NA     \n",
      "3 36005000100 Cens…    NA         NA            NA      NA NA            NA     \n",
      "4 36005000200 Cens…   563       4453            NA      NA NA            NA     \n",
      "# ℹ 31 more variables: BOROUGH <chr>, ZIP.CODE <dbl>, LATITUDE <dbl>,\n",
      "#   LONGITUDE <dbl>, LOCATION <chr>, ON.STREET.NAME <chr>,\n",
      "#   CROSS.STREET.NAME <chr>, OFF.STREET.NAME <chr>,\n",
      "#   NUMBER.OF.PERSONS.INJURED <dbl>, NUMBER.OF.PERSONS.KILLED <dbl>,\n",
      "#   NUMBER.OF.PEDESTRIANS.INJURED <dbl>, NUMBER.OF.PEDESTRIANS.KILLED <dbl>,\n",
      "#   NUMBER.OF.CYCLIST.INJURED <dbl>, NUMBER.OF.CYCLIST.KILLED <dbl>,\n",
      "#   NUMBER.OF.MOTORIST.INJURED <dbl>, NUMBER.OF.MOTORIST.KILLED <dbl>, …\n"
     ]
    }
   ],
   "source": [
    "%%R\n",
    " \n",
    "# Import data with R\n",
    "df <- read_csv('merged_data.csv', show_col_types = FALSE)\n",
    "df %>% head(4)"
   ]
  },
  {
   "cell_type": "code",
   "execution_count": 18,
   "metadata": {},
   "outputs": [
    {
     "name": "stdout",
     "output_type": "stream",
     "text": [
      "# A tibble: 6 × 3\n",
      "  BOROUGH       Total_Killed Total_Injured\n",
      "  <chr>                <dbl>         <dbl>\n",
      "1 BRONX                    6          1929\n",
      "2 BROOKLYN                18          4028\n",
      "3 MANHATTAN                6          1765\n",
      "4 QUEENS                  18          3059\n",
      "5 STATEN ISLAND            0           467\n",
      "6 <NA>                    23          5054\n"
     ]
    }
   ],
   "source": [
    "%%R\n",
    "library(dplyr)\n",
    "\n",
    "# Group by BOROUGH and summarize the total number of persons killed and injured\n",
    "borough_summary <- df %>%\n",
    "  group_by(BOROUGH) %>%\n",
    "  summarise(\n",
    "    Total_Killed = sum(NUMBER.OF.PERSONS.KILLED, na.rm = TRUE),\n",
    "    Total_Injured = sum(NUMBER.OF.PERSONS.INJURED, na.rm = TRUE)\n",
    "  )\n",
    "\n",
    "# Display the summary\n",
    "print(borough_summary)\n"
   ]
  },
  {
   "cell_type": "code",
   "execution_count": null,
   "metadata": {},
   "outputs": [],
   "source": []
  },
  {
   "attachments": {},
   "cell_type": "markdown",
   "metadata": {},
   "source": [
    "## Summary statistics\n",
    "\n",
    "Pick a column or set of columns and calculate some summary statistics (like mean,median,min,max,sd).\n",
    "Hint, you may want to use `group_by` and `summarize`.\n",
    "\n"
   ]
  },
  {
   "cell_type": "code",
   "execution_count": 26,
   "metadata": {},
   "outputs": [
    {
     "name": "stdout",
     "output_type": "stream",
     "text": [
      "# A tibble: 175 × 3\n",
      "         GEOID BOROUGH       Total_Persons_Killed\n",
      "         <dbl> <chr>                        <dbl>\n",
      " 1 36005001600 BROOKLYN                         0\n",
      " 2 36005004200 QUEENS                           0\n",
      " 3 36005004400 <NA>                             0\n",
      " 4 36005005100 QUEENS                           0\n",
      " 5 36005005902 <NA>                             0\n",
      " 6 36005006000 BROOKLYN                         0\n",
      " 7 36005006500 QUEENS                           0\n",
      " 8 36005006800 STATEN ISLAND                    0\n",
      " 9 36005007800 <NA>                             0\n",
      "10 36005011502 QUEENS                           0\n",
      "# ℹ 165 more rows\n",
      "# ℹ Use `print(n = ...)` to see more rows\n"
     ]
    }
   ],
   "source": [
    "%%R \n",
    "library(dplyr)\n",
    "\n",
    "# Filter accidents with \"Alcohol involvement\" as the contributing factor for vehicle 1,\n",
    "# then group by GEOID and BOROUGH, and summarize the total number of persons killed\n",
    "accidents_summary <- df %>%\n",
    "  filter(CONTRIBUTING.FACTOR.VEHICLE.1 == \"Alcohol Involvement\") %>%\n",
    "  group_by(GEOID, BOROUGH) %>%\n",
    "  summarise(\n",
    "    Total_Persons_Killed = sum(NUMBER.OF.PERSONS.KILLED, na.rm = TRUE),\n",
    "    .groups = 'drop' # This drops the grouping structure afterwards\n",
    "  ) %>%\n",
    "  arrange(desc(Total_Persons_Killed)) # Arrange from highest to lowest number of persons killed\n",
    "\n",
    "# Display the summary\n",
    "print(accidents_summary)\n",
    "\n",
    "\n"
   ]
  },
  {
   "cell_type": "code",
   "execution_count": null,
   "metadata": {},
   "outputs": [],
   "source": [
    "%%R\n",
    "\n",
    "discrete_variables <- c('vs', 'am', 'gear', 'carb')\n",
    "# 👉 Select the discrete variables only and make a pivot table for each\n",
    "# so we know how many cars there are in each category (for example, how many automatic vs manual)?\n",
    "\n",
    "mtcars %>% \n",
    "    select(discrete_variables) %>%\n",
    "    pivot_longer(discrete_variables, names_to = \"variable\", values_to = \"value\") %>% \n",
    "    group_by(variable, value) %>% \n",
    "    summarize(\n",
    "        count = n()\n",
    "    )"
   ]
  },
  {
   "cell_type": "markdown",
   "metadata": {},
   "source": [
    "## 1-D visualizations (aka distributions)\n",
    "\n",
    "\n",
    "### Continus variables\n",
    "\n",
    "For each continuous variable you are interested in, use ggplot to make a plot of the distribution. You can use histograms, dot plots, box plots, beeswarms, etc...(whichever chart type you found most useful). Learn about that variable and give each chart a headline that explains what you're seeing. The chart can also show the mean or median of the variable for reference (for example for a histogram you can add a vertical line through the median)."
   ]
  },
  {
   "cell_type": "code",
   "execution_count": 35,
   "metadata": {},
   "outputs": [
    {
     "name": "stdout",
     "output_type": "stream",
     "text": [
      "# A tibble: 175 × 3\n",
      "         GEOID BOROUGH   Total_Persons_Injured\n",
      "         <dbl> <chr>                     <dbl>\n",
      " 1 36061017200 <NA>                         21\n",
      " 2 36061016100 BRONX                        15\n",
      " 3 36081099200 BRONX                        15\n",
      " 4 36047102801 BRONX                        12\n",
      " 5 36081062600 <NA>                         12\n",
      " 6 36081094700 <NA>                         12\n",
      " 7 36005035000 BROOKLYN                      9\n",
      " 8 36047017800 <NA>                          9\n",
      " 9 36047046201 MANHATTAN                     9\n",
      "10 36061019400 <NA>                          9\n",
      "# ℹ 165 more rows\n",
      "# ℹ Use `print(n = ...)` to see more rows\n"
     ]
    }
   ],
   "source": [
    "%%R \n",
    "library(dplyr)\n",
    "library(ggplot2)\n",
    "\n",
    "# Filter accidents with \"Alcohol involvement\" as the contributing factor for vehicle 1,\n",
    "# then group by GEOID and BOROUGH, and summarize the total number of persons killed\n",
    "accidents_summary <- df %>%\n",
    "  filter(CONTRIBUTING.FACTOR.VEHICLE.1 == \"Alcohol Involvement\") %>%\n",
    "  group_by(GEOID, BOROUGH) %>%\n",
    "  summarise(\n",
    "    Total_Persons_Injured = sum(NUMBER.OF.PERSONS.INJURED, na.rm = TRUE),\n",
    "    .groups = 'drop' # This drops the grouping structure afterwards\n",
    "  ) %>%\n",
    "  arrange(desc(Total_Persons_Injured)) # Arrange from highest to lowest number of persons killed\n",
    "\n",
    "# Display the summary\n",
    "print(accidents_summary)\n",
    "\n",
    "\n",
    "\n"
   ]
  },
  {
   "cell_type": "code",
   "execution_count": 39,
   "metadata": {},
   "outputs": [
    {
     "data": {
      "image/png": "[encoded data removed]",
      "text/plain": [
       "<IPython.core.display.Image object>"
      ]
     },
     "metadata": {},
     "output_type": "display_data"
    }
   ],
   "source": [
    "%%R\n",
    "library(dplyr)\n",
    "library(ggplot2)\n",
    "\n",
    "ggplot(accidents_summary, aes(x = reorder(BOROUGH, Total_Persons_Injured), y = Total_Persons_Injured, fill = BOROUGH)) +\n",
    "  geom_bar(stat = \"identity\") +\n",
    "  theme(axis.text.x = element_text(angle = 45, hjust = 1)) + # Rotate X-axis labels for better readability\n",
    "  labs(x = \"Borough\", y = \"Total Persons Killed\", title = \"Total Persons Injured in Accidents by Borough with Alcohol Involvement\") +\n",
    "  scale_fill_brewer(palette = \"Set3\") # Use a color palette for aesthetic purposes"
   ]
  },
  {
   "cell_type": "code",
   "execution_count": 40,
   "metadata": {},
   "outputs": [
    {
     "name": "stderr",
     "output_type": "stream",
     "text": [
      "R[write to console]: In addition: \n",
      "R[write to console]: Warning messages:\n",
      "\n",
      "R[write to console]: 1: Removed 1 rows containing missing values (`position_stack()`). \n",
      "\n",
      "R[write to console]: 2: Removed 43 rows containing missing values (`geom_bar()`). \n",
      "\n"
     ]
    },
    {
     "data": {
      "image/png": "[encoded data removed]",
      "text/plain": [
       "<IPython.core.display.Image object>"
      ]
     },
     "metadata": {},
     "output_type": "display_data"
    }
   ],
   "source": [
    "%%R\n",
    "library(dplyr)\n",
    "library(ggplot2)\n",
    "library(dplyr)\n",
    "library(ggplot2)\n",
    "\n",
    "# Filter accidents with \"Alcohol Involvement\" as the contributing factor for vehicle 1,\n",
    "# then group by GEOID and BOROUGH, and summarize the total number of persons injured\n",
    "# Now also including the total population for each group to calculate injuries per capita\n",
    "accidents_summary <- df %>%\n",
    "  filter(CONTRIBUTING.FACTOR.VEHICLE.1 == \"Alcohol Involvement\") %>%\n",
    "  group_by(GEOID, BOROUGH) %>%\n",
    "  summarise(\n",
    "    Total_Persons_Injured = sum(NUMBER.OF.PERSONS.INJURED, na.rm = TRUE),\n",
    "    Population = sum(population, na.rm = TRUE), # Assuming summing is appropriate if population is repeated per GEOID\n",
    "    .groups = 'drop' # This drops the grouping structure afterwards\n",
    "  ) %>%\n",
    "  mutate(Injuries_Per_1000_Pop = (Total_Persons_Injured / Population) * 1000) # Calculate injuries per 1000 people\n",
    "\n",
    "# Arrange from highest to lowest injuries per capita\n",
    "accidents_summary <- accidents_summary %>%\n",
    "  arrange(desc(Injuries_Per_1000_Pop))\n",
    "\n",
    "# Plot the normalized injuries per 1000 population for each GEOID or BOROUGH\n",
    "ggplot(accidents_summary, aes(x = reorder(BOROUGH, Injuries_Per_1000_Pop), y = Injuries_Per_1000_Pop, fill = BOROUGH)) +\n",
    "  geom_bar(stat = \"identity\") +\n",
    "  theme(axis.text.x = element_text(angle = 45, hjust = 1)) + # Rotate X-axis labels for better readability\n",
    "  labs(x = \"Borough\", y = \"Injuries Per 1000 People\", title = \"Injuries Per 1000 People in Accidents by Borough with Alcohol Involvement\") +\n",
    "  scale_fill_brewer(palette = \"Set3\") # Use a color palette for aesthetic purposes\n"
   ]
  },
  {
   "cell_type": "code",
   "execution_count": null,
   "metadata": {},
   "outputs": [],
   "source": [
    "# code for plot 3\n",
    "# make sure to make a meaningful title and subtitle"
   ]
  },
  {
   "cell_type": "markdown",
   "metadata": {},
   "source": [
    "### Discrete Variables\n",
    "\n",
    "If there are any discrete variables you'd like to analyze, you can do that with charts here."
   ]
  },
  {
   "cell_type": "code",
   "execution_count": null,
   "metadata": {},
   "outputs": [],
   "source": [
    "# code for plot 1\n",
    "# make sure to make a meaningful title and subtitle"
   ]
  },
  {
   "cell_type": "code",
   "execution_count": null,
   "metadata": {},
   "outputs": [],
   "source": [
    "# code for plot 2\n",
    "# make sure to make a meaningful title and subtitle"
   ]
  },
  {
   "cell_type": "code",
   "execution_count": null,
   "metadata": {},
   "outputs": [],
   "source": [
    "# code for plot 3\n",
    "# make sure to make a meaningful title and subtitle"
   ]
  }
 ],
 "metadata": {
  "kernelspec": {
   "display_name": "Python 3",
   "language": "python",
   "name": "python3"
  },
  "language_info": {
   "codemirror_mode": {
    "name": "ipython",
    "version": 3
   },
   "file_extension": ".py",
   "mimetype": "text/x-python",
   "name": "python",
   "nbconvert_exporter": "python",
   "pygments_lexer": "ipython3",
   "version": "3.11.6"
  },
  "vscode": {
   "interpreter": {
    "hash": "34166945ca6cc351f9d38b360afe1a928411c84fd696a9e2d08d61ef3f7e4692"
   }
  }
 },
 "nbformat": 4,
 "nbformat_minor": 2
}
