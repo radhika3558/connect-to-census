{
 "cells": [
  {
   "cell_type": "markdown",
   "metadata": {},
   "source": [
    "# Notebook Title"
   ]
  },
  {
   "cell_type": "markdown",
   "metadata": {},
   "source": [
    "## Setup Python and R environment\n",
    "you can ignore this section"
   ]
  },
  {
   "cell_type": "code",
   "execution_count": 20,
   "metadata": {},
   "outputs": [
    {
     "name": "stdout",
     "output_type": "stream",
     "text": [
      "The rpy2.ipython extension is already loaded. To reload it, use:\n",
      "  %reload_ext rpy2.ipython\n",
      "The autoreload extension is already loaded. To reload it, use:\n",
      "  %reload_ext autoreload\n"
     ]
    }
   ],
   "source": [
    "%load_ext rpy2.ipython\n",
    "%load_ext autoreload\n",
    "%autoreload 2\n",
    "\n",
    "%matplotlib inline  \n",
    "from matplotlib import rcParams\n",
    "rcParams['figure.figsize'] = (16, 100)\n",
    "\n",
    "import warnings\n",
    "from rpy2.rinterface import RRuntimeWarning\n",
    "warnings.filterwarnings(\"ignore\") # Ignore all warnings\n",
    "# warnings.filterwarnings(\"ignore\", category=RRuntimeWarning) # Show some warnings\n",
    "\n",
    "import pandas as pd\n",
    "import numpy as np\n",
    "import matplotlib.pyplot as plt\n",
    "from IPython.display import display, HTML"
   ]
  },
  {
   "cell_type": "code",
   "execution_count": 21,
   "metadata": {},
   "outputs": [
    {
     "data": {
      "application/javascript": "// Disable auto-scrolling\nIPython.OutputArea.prototype._should_scroll = function(lines) {\n    return false;\n}\n",
      "text/plain": [
       "<IPython.core.display.Javascript object>"
      ]
     },
     "metadata": {},
     "output_type": "display_data"
    }
   ],
   "source": [
    "%%javascript\n",
    "// Disable auto-scrolling\n",
    "IPython.OutputArea.prototype._should_scroll = function(lines) {\n",
    "    return false;\n",
    "}"
   ]
  },
  {
   "cell_type": "code",
   "execution_count": 22,
   "metadata": {},
   "outputs": [],
   "source": [
    "%%R\n",
    "\n",
    "# My commonly used R imports\n",
    "\n",
    "require('tidyverse')"
   ]
  },
  {
   "cell_type": "markdown",
   "metadata": {},
   "source": [
    "## Load & Clean Data\n",
    "\n",
    "👉 Load the data along with the census connectors below (the output of the `connect-to-census.ipynb` notebook) and do any cleanup you'd like to do."
   ]
  },
  {
   "cell_type": "code",
   "execution_count": 23,
   "metadata": {},
   "outputs": [],
   "source": [
    "geocode_df=pd.read_csv(\"geocoded_col_10k.csv\")"
   ]
  },
  {
   "cell_type": "markdown",
   "metadata": {},
   "source": [
    "## 👉 Grab Census Data"
   ]
  },
  {
   "cell_type": "markdown",
   "metadata": {},
   "source": [
    "1. loading the Census API key"
   ]
  },
  {
   "cell_type": "code",
   "execution_count": 24,
   "metadata": {},
   "outputs": [
    {
     "data": {
      "text/plain": [
       "True"
      ]
     },
     "execution_count": 24,
     "metadata": {},
     "output_type": "execute_result"
    }
   ],
   "source": [
    "import dotenv\n",
    "\n",
    "# Load the environment variables\n",
    "# (loads CENSUS_API_KEY from .env)\n",
    "dotenv.load_dotenv()\n"
   ]
  },
  {
   "cell_type": "code",
   "execution_count": 25,
   "metadata": {},
   "outputs": [
    {
     "data": {
      "text/plain": [
       "To install your API key for use in future sessions, run this function with `install = TRUE`.\n"
      ]
     },
     "metadata": {},
     "output_type": "display_data"
    }
   ],
   "source": [
    "%%R \n",
    "\n",
    "require('tidycensus')\n",
    "\n",
    "# because it an environment variable, we don't have to \n",
    "# explicitly pass this string to R, it is readable here\n",
    "# in this R cell.\n",
    "census_api_key(Sys.getenv(\"CENSUS_API_KEY\"))"
   ]
  },
  {
   "cell_type": "markdown",
   "metadata": {},
   "source": [
    "2. Decide which Census variables you want\n",
    "\n",
    "    Use <https://censusreporter.org/> to figure out which tables you want. (if censusreporter is down, check out the code in the cell below)\n",
    "\n",
    "    -   Scroll to the bottom of the page to see the tables.\n",
    "    -   If you already know the table ID, stick that in the \"Explore\" section to learn more about that table.\n",
    "\n",
    "    By default this code loads (B01003_001) which we found in censusreporter here: https://censusreporter.org/tables/B01003/\n",
    "\n",
    "    - find some other variables that you're also interested in\n",
    "    - don't forget to pick a geography like \"tract\", \"county\" or \"block group\". here is the list of [all geographies](https://walker-data.com/tidycensus/articles/basic-usage.html#geography-in-tidycensus\n",
    "    ).\n"
   ]
  },
  {
   "cell_type": "code",
   "execution_count": 28,
   "metadata": {},
   "outputs": [
    {
     "name": "stdout",
     "output_type": "stream",
     "text": [
      "# A tibble: 46 × 3\n",
      "   name         label                                                    concept\n",
      "   <chr>        <chr>                                                    <chr>  \n",
      " 1 B06011PR_001 Estimate!!Median income in the past 12 months --!!Total: MEDIAN…\n",
      " 2 B06011PR_002 Estimate!!Median income in the past 12 months --!!Total… MEDIAN…\n",
      " 3 B06011PR_003 Estimate!!Median income in the past 12 months --!!Total… MEDIAN…\n",
      " 4 B06011PR_004 Estimate!!Median income in the past 12 months --!!Total… MEDIAN…\n",
      " 5 B06011PR_005 Estimate!!Median income in the past 12 months --!!Total… MEDIAN…\n",
      " 6 B06011_001   Estimate!!Median income in the past 12 months --!!Total: MEDIAN…\n",
      " 7 B06011_002   Estimate!!Median income in the past 12 months --!!Total… MEDIAN…\n",
      " 8 B06011_003   Estimate!!Median income in the past 12 months --!!Total… MEDIAN…\n",
      " 9 B06011_004   Estimate!!Median income in the past 12 months --!!Total… MEDIAN…\n",
      "10 B06011_005   Estimate!!Median income in the past 12 months --!!Total… MEDIAN…\n",
      "11 B07011PR_001 Estimate!!Median income in the past 12 months --!!Total: MEDIAN…\n",
      "12 B07011PR_002 Estimate!!Median income in the past 12 months --!!Total… MEDIAN…\n",
      "13 B07011PR_003 Estimate!!Median income in the past 12 months --!!Total… MEDIAN…\n",
      "14 B07011PR_004 Estimate!!Median income in the past 12 months --!!Total… MEDIAN…\n",
      "15 B07011PR_005 Estimate!!Median income in the past 12 months --!!Total… MEDIAN…\n",
      "16 B07011PR_006 Estimate!!Median income in the past 12 months --!!Total… MEDIAN…\n",
      "17 B07011_001   Estimate!!Median income in the past 12 months --!!Total: MEDIAN…\n",
      "18 B07011_002   Estimate!!Median income in the past 12 months --!!Total… MEDIAN…\n",
      "19 B07011_003   Estimate!!Median income in the past 12 months --!!Total… MEDIAN…\n",
      "20 B07011_004   Estimate!!Median income in the past 12 months --!!Total… MEDIAN…\n",
      "# ℹ 26 more rows\n",
      "# ℹ Use `print(n = ...)` to see more rows\n"
     ]
    }
   ],
   "source": [
    "%%R \n",
    "\n",
    "# Finding the Census Varaibles for the ACS 5 year survey\n",
    "# Generall you'd do this in CensusReporter, but since it's down sometimes, here it is using tidycensus's load_variables function\n",
    "\n",
    "# get every single variable in the ACS5\n",
    "all_census_vars <- load_variables(2021, \"acs5\", cache = TRUE) \n",
    "\n",
    "filtered_census_vars <- all_census_vars %>% \n",
    "    filter(grepl(\"median income\", label, ignore.case = TRUE))   # filter to those containing \"median income\"\n",
    "    \n",
    "# write to CSV so we can view it in python\n",
    "filtered_census_vars %>% \n",
    "    write_csv(\"filtered_census_vars.csv\")\n",
    "\n",
    "# show the first few rows\n",
    "filtered_census_vars %>%\n",
    "    select(-geography) %>% # remove the geography column\n",
    "    print(n = 20) # print the first 20 rows"
   ]
  },
  {
   "cell_type": "code",
   "execution_count": null,
   "metadata": {},
   "outputs": [
    {
     "ename": "RParsingError",
     "evalue": "Parsing status not OK - PARSING_STATUS.PARSE_ERROR",
     "output_type": "error",
     "traceback": [
      "\u001b[0;31m---------------------------------------------------------------------------\u001b[0m",
      "\u001b[0;31mRParsingError\u001b[0m                             Traceback (most recent call last)",
      "\u001b[1;32m/Users/radhikarukmangadhan/Documents/Algorithms/connect-to-census/merge-with-census.ipynb Cell 14\u001b[0m line \u001b[0;36m1\n\u001b[0;32m----> <a href='vscode-notebook-cell:/Users/radhikarukmangadhan/Documents/Algorithms/connect-to-census/merge-with-census.ipynb#X16sZmlsZQ%3D%3D?line=0'>1</a>\u001b[0m get_ipython()\u001b[39m.\u001b[39;49mrun_cell_magic(\u001b[39m'\u001b[39;49m\u001b[39mR\u001b[39;49m\u001b[39m'\u001b[39;49m, \u001b[39m'\u001b[39;49m\u001b[39m'\u001b[39;49m, \u001b[39m'\u001b[39;49m\u001b[39m# the variable B01003_001E was selectd from the census table \u001b[39;49m\u001b[39m\\n\u001b[39;49;00m\u001b[39m# for population, which we found in censusreporter here:\u001b[39;49m\u001b[39m\\n\u001b[39;49;00m\u001b[39m# https://censusreporter.org/tables/B01003/\u001b[39;49m\u001b[39m\\n\u001b[39;49;00m\u001b[39m\\n\u001b[39;49;00m\u001b[39m# in the table below, pick the geography, the variables, and the survey you want to pull from\u001b[39;49m\u001b[39m\\n\u001b[39;49;00m\u001b[39m# see the possible values here https://walker-data.com/tidycensus/articles/basic-usage.html\u001b[39;49m\u001b[39m\\n\u001b[39;49;00m\u001b[39m\\n\u001b[39;49;00m\u001b[39m# Get variable from ACS\u001b[39;49m\u001b[39m\\n\u001b[39;49;00m\u001b[39mnyc_census_data <- get_acs(geography = \u001b[39;49m\u001b[39m\"\u001b[39;49m\u001b[39mtract\u001b[39;49m\u001b[39m\"\u001b[39;49m\u001b[39m, \u001b[39;49m\u001b[39m\\n\u001b[39;49;00m\u001b[39m                      state=\u001b[39;49m\u001b[39m\\'\u001b[39;49;00m\u001b[39mNY\u001b[39;49m\u001b[39m\\'\u001b[39;49;00m\u001b[39m,\u001b[39;49m\u001b[39m\\n\u001b[39;49;00m\u001b[39m                      county = c(\u001b[39;49m\u001b[39m\"\u001b[39;49m\u001b[39mNew York\u001b[39;49m\u001b[39m\"\u001b[39;49m\u001b[39m, \u001b[39;49m\u001b[39m\"\u001b[39;49m\u001b[39mKings\u001b[39;49m\u001b[39m\"\u001b[39;49m\u001b[39m, \u001b[39;49m\u001b[39m\"\u001b[39;49m\u001b[39mQueens\u001b[39;49m\u001b[39m\"\u001b[39;49m\u001b[39m, \u001b[39;49m\u001b[39m\"\u001b[39;49m\u001b[39mBronx\u001b[39;49m\u001b[39m\"\u001b[39;49m\u001b[39m, \u001b[39;49m\u001b[39m\"\u001b[39;49m\u001b[39mRichmond\u001b[39;49m\u001b[39m\"\u001b[39;49m\u001b[39m),\u001b[39;49m\u001b[39m\\n\u001b[39;49;00m\u001b[39m                      variables = c(\u001b[39;49m\u001b[39m\\n\u001b[39;49;00m\u001b[39m                        population=\u001b[39;49m\u001b[39m\"\u001b[39;49m\u001b[39mB01003_001\u001b[39;49m\u001b[39m\"\u001b[39;49m\u001b[39m,\u001b[39;49m\u001b[39m\\n\u001b[39;49;00m\u001b[39m                        med_inc=\u001b[39;49m\u001b[39m\"\u001b[39;49m\u001b[39mB19013_001\u001b[39;49m\u001b[39m\"\u001b[39;49m\u001b[39m,\u001b[39;49m\u001b[39m\\n\u001b[39;49;00m\u001b[39m                        means_transit_car=\u001b[39;49m\u001b[39m\"\u001b[39;49m\u001b[39mB08301_002\u001b[39;49m\u001b[39m\"\u001b[39;49m\u001b[39m\\n\u001b[39;49;00m\u001b[39m                        means_transit_bus=\u001b[39;49m\u001b[39m\"\u001b[39;49m\u001b[39mB08301_011\u001b[39;49m\u001b[39m\"\u001b[39;49m\u001b[39m\\n\u001b[39;49;00m\u001b[39m                        school_kids=\u001b[39;49m\u001b[39m\"\u001b[39;49m\u001b[39mB14001_002\u001b[39;49m\u001b[39m\"\u001b[39;49m\u001b[39m\\n\u001b[39;49;00m\u001b[39m                        kids=\u001b[39;49m\u001b[39m\"\u001b[39;49m\u001b[39mB09001_001\u001b[39;49m\u001b[39m\"\u001b[39;49m\u001b[39m\\n\u001b[39;49;00m\u001b[39m                      ), \u001b[39;49m\u001b[39m\\n\u001b[39;49;00m\u001b[39m                      year = 2021,\u001b[39;49m\u001b[39m\\n\u001b[39;49;00m\u001b[39m                      survey=\u001b[39;49m\u001b[39m\"\u001b[39;49m\u001b[39macs5\u001b[39;49m\u001b[39m\"\u001b[39;49m\u001b[39m,\u001b[39;49m\u001b[39m\\n\u001b[39;49;00m\u001b[39m                      geometry = F)\u001b[39;49m\u001b[39m\\n\u001b[39;49;00m\u001b[39m\\n\u001b[39;49;00m\u001b[39mnyc_census_data\u001b[39;49m\u001b[39m\\n\u001b[39;49;00m\u001b[39m'\u001b[39;49m)\n",
      "File \u001b[0;32m~/.pyenv/versions/3.11.6/lib/python3.11/site-packages/IPython/core/interactiveshell.py:2517\u001b[0m, in \u001b[0;36mInteractiveShell.run_cell_magic\u001b[0;34m(self, magic_name, line, cell)\u001b[0m\n\u001b[1;32m   2515\u001b[0m \u001b[39mwith\u001b[39;00m \u001b[39mself\u001b[39m\u001b[39m.\u001b[39mbuiltin_trap:\n\u001b[1;32m   2516\u001b[0m     args \u001b[39m=\u001b[39m (magic_arg_s, cell)\n\u001b[0;32m-> 2517\u001b[0m     result \u001b[39m=\u001b[39m fn(\u001b[39m*\u001b[39;49margs, \u001b[39m*\u001b[39;49m\u001b[39m*\u001b[39;49mkwargs)\n\u001b[1;32m   2519\u001b[0m \u001b[39m# The code below prevents the output from being displayed\u001b[39;00m\n\u001b[1;32m   2520\u001b[0m \u001b[39m# when using magics with decorator @output_can_be_silenced\u001b[39;00m\n\u001b[1;32m   2521\u001b[0m \u001b[39m# when the last Python token in the expression is a ';'.\u001b[39;00m\n\u001b[1;32m   2522\u001b[0m \u001b[39mif\u001b[39;00m \u001b[39mgetattr\u001b[39m(fn, magic\u001b[39m.\u001b[39mMAGIC_OUTPUT_CAN_BE_SILENCED, \u001b[39mFalse\u001b[39;00m):\n",
      "File \u001b[0;32m~/.pyenv/versions/3.11.6/lib/python3.11/site-packages/rpy2/ipython/rmagic.py:949\u001b[0m, in \u001b[0;36mRMagics.R\u001b[0;34m(self, line, cell, local_ns)\u001b[0m\n\u001b[1;32m    947\u001b[0m         return_output \u001b[39m=\u001b[39m \u001b[39mFalse\u001b[39;00m\n\u001b[1;32m    948\u001b[0m \u001b[39melse\u001b[39;00m:\n\u001b[0;32m--> 949\u001b[0m     text_result, result, visible \u001b[39m=\u001b[39m \u001b[39mself\u001b[39;49m\u001b[39m.\u001b[39;49meval(code)\n\u001b[1;32m    950\u001b[0m     text_output \u001b[39m+\u001b[39m\u001b[39m=\u001b[39m text_result\n\u001b[1;32m    951\u001b[0m     \u001b[39mif\u001b[39;00m visible:\n",
      "File \u001b[0;32m~/.pyenv/versions/3.11.6/lib/python3.11/site-packages/rpy2/ipython/rmagic.py:406\u001b[0m, in \u001b[0;36mRMagics.eval\u001b[0;34m(self, code)\u001b[0m\n\u001b[1;32m    398\u001b[0m stack\u001b[39m.\u001b[39menter_context(\n\u001b[1;32m    399\u001b[0m     obj_in_module(\n\u001b[1;32m    400\u001b[0m         rpy2\u001b[39m.\u001b[39mrinterface_lib\u001b[39m.\u001b[39mcallbacks,\n\u001b[1;32m    401\u001b[0m         \u001b[39m'\u001b[39m\u001b[39m_WRITECONSOLE_EXCEPTION_LOG\u001b[39m\u001b[39m'\u001b[39m,\n\u001b[1;32m    402\u001b[0m         \u001b[39m'\u001b[39m\u001b[39m%s\u001b[39;00m\u001b[39m'\u001b[39m)\n\u001b[1;32m    403\u001b[0m )\n\u001b[1;32m    404\u001b[0m \u001b[39mtry\u001b[39;00m:\n\u001b[1;32m    405\u001b[0m     \u001b[39m# Need the newline in case the last line in code is a comment.\u001b[39;00m\n\u001b[0;32m--> 406\u001b[0m     r_expr \u001b[39m=\u001b[39m ri\u001b[39m.\u001b[39;49mparse(code)\n\u001b[1;32m    407\u001b[0m     value, visible \u001b[39m=\u001b[39m ri\u001b[39m.\u001b[39mevalr_expr_with_visible(\n\u001b[1;32m    408\u001b[0m         r_expr\n\u001b[1;32m    409\u001b[0m     )\n\u001b[1;32m    410\u001b[0m \u001b[39mexcept\u001b[39;00m (ri\u001b[39m.\u001b[39membedded\u001b[39m.\u001b[39mRRuntimeError, \u001b[39mValueError\u001b[39;00m) \u001b[39mas\u001b[39;00m exception:\n\u001b[1;32m    411\u001b[0m     \u001b[39m# Otherwise next return seems to have copy of error.\u001b[39;00m\n",
      "File \u001b[0;32m~/.pyenv/versions/3.11.6/lib/python3.11/site-packages/rpy2/rinterface_lib/conversion.py:45\u001b[0m, in \u001b[0;36m_cdata_res_to_rinterface.<locals>._\u001b[0;34m(*args, **kwargs)\u001b[0m\n\u001b[1;32m     44\u001b[0m \u001b[39mdef\u001b[39;00m \u001b[39m_\u001b[39m(\u001b[39m*\u001b[39margs, \u001b[39m*\u001b[39m\u001b[39m*\u001b[39mkwargs):\n\u001b[0;32m---> 45\u001b[0m     cdata \u001b[39m=\u001b[39m function(\u001b[39m*\u001b[39;49margs, \u001b[39m*\u001b[39;49m\u001b[39m*\u001b[39;49mkwargs)\n\u001b[1;32m     46\u001b[0m     \u001b[39m# TODO: test cdata is of the expected CType\u001b[39;00m\n\u001b[1;32m     47\u001b[0m     \u001b[39mreturn\u001b[39;00m _cdata_to_rinterface(cdata)\n",
      "File \u001b[0;32m~/.pyenv/versions/3.11.6/lib/python3.11/site-packages/rpy2/rinterface.py:123\u001b[0m, in \u001b[0;36mparse\u001b[0;34m(text, num)\u001b[0m\n\u001b[1;32m    121\u001b[0m robj \u001b[39m=\u001b[39m StrSexpVector([text])\n\u001b[1;32m    122\u001b[0m \u001b[39mwith\u001b[39;00m memorymanagement\u001b[39m.\u001b[39mrmemory() \u001b[39mas\u001b[39;00m rmemory:\n\u001b[0;32m--> 123\u001b[0m     res \u001b[39m=\u001b[39m _rinterface\u001b[39m.\u001b[39;49m_parse(robj\u001b[39m.\u001b[39;49m__sexp__\u001b[39m.\u001b[39;49m_cdata, num, rmemory)\n\u001b[1;32m    124\u001b[0m \u001b[39mreturn\u001b[39;00m res\n",
      "File \u001b[0;32m~/.pyenv/versions/3.11.6/lib/python3.11/site-packages/rpy2/rinterface_lib/_rinterface_capi.py:720\u001b[0m, in \u001b[0;36m_parse\u001b[0;34m(cdata, num, rmemory)\u001b[0m\n\u001b[1;32m    713\u001b[0m \u001b[39m# TODO: design better handling of possible status:\u001b[39;00m\n\u001b[1;32m    714\u001b[0m \u001b[39m# PARSE_NULL,\u001b[39;00m\n\u001b[1;32m    715\u001b[0m \u001b[39m# PARSE_OK,\u001b[39;00m\n\u001b[1;32m    716\u001b[0m \u001b[39m# PARSE_INCOMPLETE,\u001b[39;00m\n\u001b[1;32m    717\u001b[0m \u001b[39m# PARSE_ERROR,\u001b[39;00m\n\u001b[1;32m    718\u001b[0m \u001b[39m# PARSE_EOF\u001b[39;00m\n\u001b[1;32m    719\u001b[0m \u001b[39mif\u001b[39;00m status[\u001b[39m0\u001b[39m] \u001b[39m!=\u001b[39m openrlib\u001b[39m.\u001b[39mrlib\u001b[39m.\u001b[39mPARSE_OK:\n\u001b[0;32m--> 720\u001b[0m     \u001b[39mraise\u001b[39;00m RParsingError(\u001b[39m'\u001b[39m\u001b[39mParsing status not OK\u001b[39m\u001b[39m'\u001b[39m,\n\u001b[1;32m    721\u001b[0m                         status\u001b[39m=\u001b[39mPARSING_STATUS(status[\u001b[39m0\u001b[39m]))\n\u001b[1;32m    722\u001b[0m \u001b[39mreturn\u001b[39;00m res\n",
      "\u001b[0;31mRParsingError\u001b[0m: Parsing status not OK - PARSING_STATUS.PARSE_ERROR"
     ]
    }
   ],
   "source": [
    "%%R -o nyc_census_data\n",
    "# the variable B01003_001E was selectd from the census table \n",
    "# for population, which we found in censusreporter here:\n",
    "# https://censusreporter.org/tables/B01003/\n",
    "\n",
    "# in the table below, pick the geography, the variables, and the survey you want to pull from\n",
    "# see the possible values here https://walker-data.com/tidycensus/articles/basic-usage.html\n",
    "\n",
    "# Get variable from ACS\n",
    "nyc_census_data <- get_acs(geography = \"tract\", \n",
    "                      state='NY',\n",
    "                      county = c(\"New York\", \"Kings\", \"Queens\", \"Bronx\", \"Richmond\"),\n",
    "                      variables = c(\n",
    "                        population=\"B01003_001\",\n",
    "                        med_inc=\"B19013_001\",\n",
    "                        means_transit_car=\"B08301_002E\",\n",
    "                        means_transit_bus=\"B08301_011E\",\n",
    "                        school_kids=\"B14001_002E\",\n",
    "                        kids=\"B09001_001E\"\n",
    "                      ), \n",
    "                      year = 2021,\n",
    "                      survey=\"acs5\",\n",
    "                      geometry=F)\n",
    "\n",
    "nyc_census_data"
   ]
  },
  {
   "cell_type": "code",
   "execution_count": 38,
   "metadata": {},
   "outputs": [
    {
     "name": "stdout",
     "output_type": "stream",
     "text": [
      "# A tibble: 13,962 × 5\n",
      "   GEOID       NAME                                   variable    estimate   moe\n",
      "   <chr>       <chr>                                  <chr>          <dbl> <dbl>\n",
      " 1 36005000100 Census Tract 1, Bronx County, New York population      6661   702\n",
      " 2 36005000100 Census Tract 1, Bronx County, New York means_tran…        0    18\n",
      " 3 36005000100 Census Tract 1, Bronx County, New York means_tran…        0    18\n",
      " 4 36005000100 Census Tract 1, Bronx County, New York kids              98    77\n",
      " 5 36005000100 Census Tract 1, Bronx County, New York school_kids       27    25\n",
      " 6 36005000100 Census Tract 1, Bronx County, New York med_inc           NA    NA\n",
      " 7 36005000200 Census Tract 2, Bronx County, New York population      4453   563\n",
      " 8 36005000200 Census Tract 2, Bronx County, New York means_tran…      779   380\n",
      " 9 36005000200 Census Tract 2, Bronx County, New York means_tran…      235   150\n",
      "10 36005000200 Census Tract 2, Bronx County, New York kids            1008   234\n",
      "# ℹ 13,952 more rows\n",
      "# ℹ Use `print(n = ...)` to see more rows\n"
     ]
    },
    {
     "data": {
      "text/plain": [
       "Getting data from the 2017-2021 5-year ACS\n",
       "Using FIPS code '36' for state 'NY'\n",
       "Using FIPS code '061' for 'New York County'\n",
       "Using FIPS code '047' for 'Kings County'\n",
       "Using FIPS code '081' for 'Queens County'\n",
       "Using FIPS code '005' for 'Bronx County'\n",
       "Using FIPS code '085' for 'Richmond County'\n"
      ]
     },
     "metadata": {},
     "output_type": "display_data"
    }
   ],
   "source": [
    "%%R -o nyc_census_data\n",
    "nyc_census_data <- get_acs(geography = \"tract\", \n",
    "                      state='NY',\n",
    "                      county = c(\"New York\", \"Kings\", \"Queens\", \"Bronx\", \"Richmond\"),\n",
    "                      variables = c(\n",
    "                        population=\"B01003_001\",\n",
    "                        med_inc=\"B19013_001\",\n",
    "                        means_transit_car=\"B08301_002\",\n",
    "                        means_transit_bus=\"B08301_011\",\n",
    "                        school_kids=\"B14001_002\",\n",
    "                        kids=\"B09001_001\"\n",
    "                      ), \n",
    "                      year = 2021,\n",
    "                      survey=\"acs5\",\n",
    "                      geometry=F)\n",
    "\n",
    "nyc_census_data"
   ]
  },
  {
   "cell_type": "markdown",
   "metadata": {},
   "source": [
    "## 👉 Merge it with your data\n",
    "\n",
    "hint...`tidycensus` provides you data in long format you may need to pivot the census data from long to wide format before merging it with your data"
   ]
  },
  {
   "cell_type": "code",
   "execution_count": 39,
   "metadata": {},
   "outputs": [],
   "source": [
    "%%R \n",
    "\n",
    "# pivot wide \n",
    "nyc_census_data <- nyc_census_data %>% \n",
    "    pivot_wider(names_from = \"variable\", values_from = \"estimate\")"
   ]
  },
  {
   "cell_type": "code",
   "execution_count": 40,
   "metadata": {},
   "outputs": [
    {
     "data": {
      "text/html": [
       "<div>\n",
       "<style scoped>\n",
       "    .dataframe tbody tr th:only-of-type {\n",
       "        vertical-align: middle;\n",
       "    }\n",
       "\n",
       "    .dataframe tbody tr th {\n",
       "        vertical-align: top;\n",
       "    }\n",
       "\n",
       "    .dataframe thead th {\n",
       "        text-align: right;\n",
       "    }\n",
       "</style>\n",
       "<table border=\"1\" class=\"dataframe\">\n",
       "  <thead>\n",
       "    <tr style=\"text-align: right;\">\n",
       "      <th></th>\n",
       "      <th>GEOID</th>\n",
       "      <th>NAME</th>\n",
       "      <th>variable</th>\n",
       "      <th>estimate</th>\n",
       "      <th>moe</th>\n",
       "    </tr>\n",
       "  </thead>\n",
       "  <tbody>\n",
       "    <tr>\n",
       "      <th>1</th>\n",
       "      <td>36005000100</td>\n",
       "      <td>Census Tract 1, Bronx County, New York</td>\n",
       "      <td>population</td>\n",
       "      <td>6661.0</td>\n",
       "      <td>702.0</td>\n",
       "    </tr>\n",
       "    <tr>\n",
       "      <th>2</th>\n",
       "      <td>36005000100</td>\n",
       "      <td>Census Tract 1, Bronx County, New York</td>\n",
       "      <td>means_transit_car</td>\n",
       "      <td>0.0</td>\n",
       "      <td>18.0</td>\n",
       "    </tr>\n",
       "    <tr>\n",
       "      <th>3</th>\n",
       "      <td>36005000100</td>\n",
       "      <td>Census Tract 1, Bronx County, New York</td>\n",
       "      <td>means_transit_bus</td>\n",
       "      <td>0.0</td>\n",
       "      <td>18.0</td>\n",
       "    </tr>\n",
       "    <tr>\n",
       "      <th>4</th>\n",
       "      <td>36005000100</td>\n",
       "      <td>Census Tract 1, Bronx County, New York</td>\n",
       "      <td>kids</td>\n",
       "      <td>98.0</td>\n",
       "      <td>77.0</td>\n",
       "    </tr>\n",
       "    <tr>\n",
       "      <th>5</th>\n",
       "      <td>36005000100</td>\n",
       "      <td>Census Tract 1, Bronx County, New York</td>\n",
       "      <td>school_kids</td>\n",
       "      <td>27.0</td>\n",
       "      <td>25.0</td>\n",
       "    </tr>\n",
       "    <tr>\n",
       "      <th>...</th>\n",
       "      <td>...</td>\n",
       "      <td>...</td>\n",
       "      <td>...</td>\n",
       "      <td>...</td>\n",
       "      <td>...</td>\n",
       "    </tr>\n",
       "    <tr>\n",
       "      <th>13958</th>\n",
       "      <td>36085990100</td>\n",
       "      <td>Census Tract 9901, Richmond County, New York</td>\n",
       "      <td>means_transit_car</td>\n",
       "      <td>0.0</td>\n",
       "      <td>13.0</td>\n",
       "    </tr>\n",
       "    <tr>\n",
       "      <th>13959</th>\n",
       "      <td>36085990100</td>\n",
       "      <td>Census Tract 9901, Richmond County, New York</td>\n",
       "      <td>means_transit_bus</td>\n",
       "      <td>0.0</td>\n",
       "      <td>13.0</td>\n",
       "    </tr>\n",
       "    <tr>\n",
       "      <th>13960</th>\n",
       "      <td>36085990100</td>\n",
       "      <td>Census Tract 9901, Richmond County, New York</td>\n",
       "      <td>kids</td>\n",
       "      <td>0.0</td>\n",
       "      <td>13.0</td>\n",
       "    </tr>\n",
       "    <tr>\n",
       "      <th>13961</th>\n",
       "      <td>36085990100</td>\n",
       "      <td>Census Tract 9901, Richmond County, New York</td>\n",
       "      <td>school_kids</td>\n",
       "      <td>0.0</td>\n",
       "      <td>13.0</td>\n",
       "    </tr>\n",
       "    <tr>\n",
       "      <th>13962</th>\n",
       "      <td>36085990100</td>\n",
       "      <td>Census Tract 9901, Richmond County, New York</td>\n",
       "      <td>med_inc</td>\n",
       "      <td>NaN</td>\n",
       "      <td>NaN</td>\n",
       "    </tr>\n",
       "  </tbody>\n",
       "</table>\n",
       "<p>13962 rows × 5 columns</p>\n",
       "</div>"
      ],
      "text/plain": [
       "             GEOID                                          NAME  \\\n",
       "1      36005000100        Census Tract 1, Bronx County, New York   \n",
       "2      36005000100        Census Tract 1, Bronx County, New York   \n",
       "3      36005000100        Census Tract 1, Bronx County, New York   \n",
       "4      36005000100        Census Tract 1, Bronx County, New York   \n",
       "5      36005000100        Census Tract 1, Bronx County, New York   \n",
       "...            ...                                           ...   \n",
       "13958  36085990100  Census Tract 9901, Richmond County, New York   \n",
       "13959  36085990100  Census Tract 9901, Richmond County, New York   \n",
       "13960  36085990100  Census Tract 9901, Richmond County, New York   \n",
       "13961  36085990100  Census Tract 9901, Richmond County, New York   \n",
       "13962  36085990100  Census Tract 9901, Richmond County, New York   \n",
       "\n",
       "                variable  estimate    moe  \n",
       "1             population    6661.0  702.0  \n",
       "2      means_transit_car       0.0   18.0  \n",
       "3      means_transit_bus       0.0   18.0  \n",
       "4                   kids      98.0   77.0  \n",
       "5            school_kids      27.0   25.0  \n",
       "...                  ...       ...    ...  \n",
       "13958  means_transit_car       0.0   13.0  \n",
       "13959  means_transit_bus       0.0   13.0  \n",
       "13960               kids       0.0   13.0  \n",
       "13961        school_kids       0.0   13.0  \n",
       "13962            med_inc       NaN    NaN  \n",
       "\n",
       "[13962 rows x 5 columns]"
      ]
     },
     "execution_count": 40,
     "metadata": {},
     "output_type": "execute_result"
    }
   ],
   "source": [
    "nyc_census_data"
   ]
  },
  {
   "cell_type": "code",
   "execution_count": 41,
   "metadata": {},
   "outputs": [],
   "source": [
    "%%R\n",
    "\n",
    "geo_code <- read.csv(\"geocoded_col_10k.csv\")\n",
    "\n",
    "# Merge the dataframes\n",
    "merged_data <- merge(nyc_census_data, geo_code, by = \"GEOID\", all.x = TRUE)"
   ]
  },
  {
   "cell_type": "code",
   "execution_count": 42,
   "metadata": {},
   "outputs": [],
   "source": [
    "%%R\n",
    "\n",
    "# write to CSV so we can view it in python\n",
    "merged_data %>% \n",
    "    write_csv(\"merged_data.csv\")"
   ]
  },
  {
   "cell_type": "code",
   "execution_count": 43,
   "metadata": {},
   "outputs": [
    {
     "data": {
      "text/plain": [
       "GEOID                              int64\n",
       "NAME                              object\n",
       "moe                              float64\n",
       "population                       float64\n",
       "means_transit_car                float64\n",
       "means_transit_bus                float64\n",
       "kids                             float64\n",
       "school_kids                      float64\n",
       "med_inc                          float64\n",
       "CRASH.DATE                        object\n",
       "CRASH.TIME                        object\n",
       "BOROUGH                           object\n",
       "ZIP.CODE                         float64\n",
       "LATITUDE                         float64\n",
       "LONGITUDE                        float64\n",
       "LOCATION                          object\n",
       "ON.STREET.NAME                    object\n",
       "CROSS.STREET.NAME                 object\n",
       "OFF.STREET.NAME                   object\n",
       "NUMBER.OF.PERSONS.INJURED        float64\n",
       "NUMBER.OF.PERSONS.KILLED         float64\n",
       "NUMBER.OF.PEDESTRIANS.INJURED    float64\n",
       "NUMBER.OF.PEDESTRIANS.KILLED     float64\n",
       "NUMBER.OF.CYCLIST.INJURED        float64\n",
       "NUMBER.OF.CYCLIST.KILLED         float64\n",
       "NUMBER.OF.MOTORIST.INJURED       float64\n",
       "NUMBER.OF.MOTORIST.KILLED        float64\n",
       "CONTRIBUTING.FACTOR.VEHICLE.1     object\n",
       "CONTRIBUTING.FACTOR.VEHICLE.2     object\n",
       "CONTRIBUTING.FACTOR.VEHICLE.3     object\n",
       "CONTRIBUTING.FACTOR.VEHICLE.4     object\n",
       "CONTRIBUTING.FACTOR.VEHICLE.5     object\n",
       "COLLISION_ID                     float64\n",
       "VEHICLE.TYPE.CODE.1               object\n",
       "VEHICLE.TYPE.CODE.2               object\n",
       "VEHICLE.TYPE.CODE.3               object\n",
       "VEHICLE.TYPE.CODE.4               object\n",
       "VEHICLE.TYPE.CODE.5               object\n",
       "STATE                            float64\n",
       "COUNTY                           float64\n",
       "TRACT                            float64\n",
       "BLOCK                            float64\n",
       "dtype: object"
      ]
     },
     "execution_count": 43,
     "metadata": {},
     "output_type": "execute_result"
    }
   ],
   "source": [
    "df=pd.read_csv(\"merged_data.csv\")\n",
    "df.dtypes"
   ]
  },
  {
   "cell_type": "code",
   "execution_count": null,
   "metadata": {},
   "outputs": [],
   "source": []
  }
 ],
 "metadata": {
  "kernelspec": {
   "display_name": "Python 3 (ipykernel)",
   "language": "python",
   "name": "python3"
  },
  "language_info": {
   "codemirror_mode": {
    "name": "ipython",
    "version": 3
   },
   "file_extension": ".py",
   "mimetype": "text/x-python",
   "name": "python",
   "nbconvert_exporter": "python",
   "pygments_lexer": "ipython3",
   "version": "3.11.6"
  }
 },
 "nbformat": 4,
 "nbformat_minor": 4
}
