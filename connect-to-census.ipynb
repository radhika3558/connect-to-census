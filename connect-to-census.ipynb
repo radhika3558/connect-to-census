{
 "cells": [
  {
   "cell_type": "markdown",
   "metadata": {},
   "source": [
    "# Notebook Title"
   ]
  },
  {
   "cell_type": "markdown",
   "metadata": {},
   "source": [
    "## Setup Python and R environment\n",
    "you can ignore this section"
   ]
  },
  {
   "cell_type": "code",
   "execution_count": 2,
   "metadata": {},
   "outputs": [],
   "source": [
    "%load_ext rpy2.ipython\n",
    "%load_ext autoreload\n",
    "%autoreload 2\n",
    "\n",
    "%matplotlib inline  \n",
    "from matplotlib import rcParams\n",
    "rcParams['figure.figsize'] = (16, 100)\n",
    "\n",
    "import warnings\n",
    "from rpy2.rinterface import RRuntimeWarning\n",
    "warnings.filterwarnings(\"ignore\") # Ignore all warnings\n",
    "# warnings.filterwarnings(\"ignore\", category=RRuntimeWarning) # Show some warnings\n",
    "\n",
    "import pandas as pd\n",
    "import numpy as np\n",
    "import matplotlib.pyplot as plt\n",
    "from IPython.display import display, HTML"
   ]
  },
  {
   "cell_type": "code",
   "execution_count": 3,
   "metadata": {},
   "outputs": [
    {
     "data": {
      "application/javascript": "// Disable auto-scrolling\nIPython.OutputArea.prototype._should_scroll = function(lines) {\n    return false;\n}\n",
      "text/plain": [
       "<IPython.core.display.Javascript object>"
      ]
     },
     "metadata": {},
     "output_type": "display_data"
    }
   ],
   "source": [
    "%%javascript\n",
    "// Disable auto-scrolling\n",
    "IPython.OutputArea.prototype._should_scroll = function(lines) {\n",
    "    return false;\n",
    "}"
   ]
  },
  {
   "cell_type": "code",
   "execution_count": 4,
   "metadata": {},
   "outputs": [
    {
     "name": "stdout",
     "output_type": "stream",
     "text": [
      "── Attaching core tidyverse packages ──────────────────────── tidyverse 2.0.0 ──\n",
      "✔ dplyr     1.1.4     ✔ readr     2.1.5\n",
      "✔ forcats   1.0.0     ✔ stringr   1.5.1\n",
      "✔ ggplot2   3.4.4     ✔ tibble    3.2.1\n",
      "✔ lubridate 1.9.3     ✔ tidyr     1.3.0\n",
      "✔ purrr     1.0.2     \n",
      "── Conflicts ────────────────────────────────────────── tidyverse_conflicts() ──\n",
      "✖ dplyr::filter() masks stats::filter()\n",
      "✖ dplyr::lag()    masks stats::lag()\n",
      "ℹ Use the conflicted package (<http://conflicted.r-lib.org/>) to force all conflicts to become errors\n"
     ]
    },
    {
     "data": {
      "text/plain": [
       "Loading required package: tidyverse\n"
      ]
     },
     "metadata": {},
     "output_type": "display_data"
    }
   ],
   "source": [
    "%%R\n",
    "\n",
    "# My commonly used R imports\n",
    "\n",
    "require('tidyverse')"
   ]
  },
  {
   "cell_type": "markdown",
   "metadata": {},
   "source": [
    "## 👉 download your data\n",
    "\n",
    "You can write code here to download your dataset. Or if you already have it, just leave the URL in the comments and just load it into a pandas or R (or both) dataframe."
   ]
  },
  {
   "cell_type": "code",
   "execution_count": 6,
   "metadata": {},
   "outputs": [],
   "source": [
    "#Motor vehicle collisions 2023, dropped rows without lat/long as there were 7300 rows and I dont have API credits https://data.cityofnewyork.us/Public-Safety/Motor-Vehicle-Collisions-Crashes/h9gi-nx95/about_data\n",
    "import pandas as pd\n",
    "\n",
    "df = pd.read_csv('df_cleaned.csv')"
   ]
  },
  {
   "cell_type": "code",
   "execution_count": 7,
   "metadata": {},
   "outputs": [],
   "source": [
    "df =df.sample(10000)"
   ]
  },
  {
   "cell_type": "code",
   "execution_count": 8,
   "metadata": {},
   "outputs": [
    {
     "name": "stdout",
     "output_type": "stream",
     "text": [
      "CRASH DATE                        object\n",
      "CRASH TIME                        object\n",
      "BOROUGH                           object\n",
      "ZIP CODE                         float64\n",
      "LATITUDE                         float64\n",
      "LONGITUDE                        float64\n",
      "LOCATION                          object\n",
      "ON STREET NAME                    object\n",
      "CROSS STREET NAME                 object\n",
      "OFF STREET NAME                   object\n",
      "NUMBER OF PERSONS INJURED          int64\n",
      "NUMBER OF PERSONS KILLED           int64\n",
      "NUMBER OF PEDESTRIANS INJURED      int64\n",
      "NUMBER OF PEDESTRIANS KILLED       int64\n",
      "NUMBER OF CYCLIST INJURED          int64\n",
      "NUMBER OF CYCLIST KILLED           int64\n",
      "NUMBER OF MOTORIST INJURED         int64\n",
      "NUMBER OF MOTORIST KILLED          int64\n",
      "CONTRIBUTING FACTOR VEHICLE 1     object\n",
      "CONTRIBUTING FACTOR VEHICLE 2     object\n",
      "CONTRIBUTING FACTOR VEHICLE 3     object\n",
      "CONTRIBUTING FACTOR VEHICLE 4     object\n",
      "CONTRIBUTING FACTOR VEHICLE 5     object\n",
      "COLLISION_ID                       int64\n",
      "VEHICLE TYPE CODE 1               object\n",
      "VEHICLE TYPE CODE 2               object\n",
      "VEHICLE TYPE CODE 3               object\n",
      "VEHICLE TYPE CODE 4               object\n",
      "VEHICLE TYPE CODE 5               object\n",
      "dtype: object\n"
     ]
    }
   ],
   "source": [
    "print(df.dtypes)"
   ]
  },
  {
   "cell_type": "code",
   "execution_count": null,
   "metadata": {},
   "outputs": [],
   "source": []
  },
  {
   "cell_type": "markdown",
   "metadata": {},
   "source": [
    "## 👉 convert addresses --> lat/long \n",
    "\n",
    "See the [census-examples](https://github.com/data4news/census-examples) repository for examples. If you need help, try asking in the class slack channel. Chances are someone in the class is struggling with the same problem as you are so we might as well all learn together in the same slack channel! "
   ]
  },
  {
   "cell_type": "code",
   "execution_count": 9,
   "metadata": {},
   "outputs": [],
   "source": [
    "# Save the df_cleaned DataFrame as a CSV file\n",
    "df.to_csv('df_cleaned2.csv', index=False)\n"
   ]
  },
  {
   "cell_type": "code",
   "execution_count": null,
   "metadata": {},
   "outputs": [],
   "source": []
  },
  {
   "cell_type": "code",
   "execution_count": null,
   "metadata": {},
   "outputs": [],
   "source": []
  },
  {
   "cell_type": "markdown",
   "metadata": {},
   "source": [
    "## 👉 convert lat/long to census geography codes \n",
    "\n",
    "(like 'GEOID', 'STATE', 'COUNTY', 'TRACT', 'BLOCK', etc...)\n",
    "\n",
    "Same note as above, see [census-examples](https://github.com/data4news/census-examples) repository for examples or ask in the class slack channel if stuck."
   ]
  },
  {
   "cell_type": "markdown",
   "metadata": {},
   "source": []
  },
  {
   "cell_type": "code",
   "execution_count": 13,
   "metadata": {},
   "outputs": [
    {
     "name": "stderr",
     "output_type": "stream",
     "text": [
      "  5%|▍         | 459/10000 [00:00<00:08, 1172.66it/s]"
     ]
    },
    {
     "name": "stdout",
     "output_type": "stream",
     "text": [
      "Error geocoding (0.0, 0.0): 'Census Blocks'\n",
      "Error geocoding (0.0, 0.0): 'Census Blocks'\n",
      "Error geocoding (0.0, 0.0): 'Census Blocks'\n",
      "Error geocoding (0.0, 0.0): 'Census Blocks'\n"
     ]
    },
    {
     "name": "stderr",
     "output_type": "stream",
     "text": [
      "  8%|▊         | 810/10000 [00:00<00:08, 1070.32it/s]"
     ]
    },
    {
     "name": "stdout",
     "output_type": "stream",
     "text": [
      "Error geocoding (0.0, 0.0): 'Census Blocks'\n",
      "Error geocoding (0.0, 0.0): 'Census Blocks'\n"
     ]
    },
    {
     "name": "stderr",
     "output_type": "stream",
     "text": [
      " 11%|█▏        | 1145/10000 [00:01<00:08, 1081.19it/s]"
     ]
    },
    {
     "name": "stdout",
     "output_type": "stream",
     "text": [
      "Error geocoding (0.0, 0.0): 'Census Blocks'\n",
      "Error geocoding (0.0, 0.0): 'Census Blocks'\n",
      "Error geocoding (0.0, 0.0): 'Census Blocks'\n"
     ]
    },
    {
     "name": "stderr",
     "output_type": "stream",
     "text": [
      " 14%|█▎        | 1367/10000 [00:01<00:07, 1087.51it/s]"
     ]
    },
    {
     "name": "stdout",
     "output_type": "stream",
     "text": [
      "Error geocoding (0.0, 0.0): 'Census Blocks'\n",
      "Error geocoding (0.0, 0.0): 'Census Blocks'\n",
      "Error geocoding (0.0, 0.0): 'Census Blocks'\n"
     ]
    },
    {
     "name": "stderr",
     "output_type": "stream",
     "text": [
      " 18%|█▊        | 1839/10000 [00:01<00:07, 1161.86it/s]"
     ]
    },
    {
     "name": "stdout",
     "output_type": "stream",
     "text": [
      "Error geocoding (0.0, 0.0): 'Census Blocks'\n"
     ]
    },
    {
     "name": "stderr",
     "output_type": "stream",
     "text": [
      " 35%|███▌      | 3517/10000 [00:03<00:05, 1170.82it/s]"
     ]
    },
    {
     "name": "stdout",
     "output_type": "stream",
     "text": [
      "Error geocoding (0.0, 0.0): 'Census Blocks'\n",
      "Error geocoding (0.0, 0.0): 'Census Blocks'\n"
     ]
    },
    {
     "name": "stderr",
     "output_type": "stream",
     "text": [
      " 40%|███▉      | 3989/10000 [00:03<00:05, 1145.43it/s]"
     ]
    },
    {
     "name": "stdout",
     "output_type": "stream",
     "text": [
      "Error geocoding (0.0, 0.0): 'Census Blocks'\n",
      "Error geocoding (0.0, 0.0): 'Census Blocks'\n"
     ]
    },
    {
     "name": "stderr",
     "output_type": "stream",
     "text": [
      " 46%|████▌     | 4575/10000 [00:04<00:04, 1157.28it/s]"
     ]
    },
    {
     "name": "stdout",
     "output_type": "stream",
     "text": [
      "Error geocoding (0.0, 0.0): 'Census Blocks'\n"
     ]
    },
    {
     "name": "stderr",
     "output_type": "stream",
     "text": [
      " 49%|████▉     | 4924/10000 [00:04<00:04, 1143.14it/s]"
     ]
    },
    {
     "name": "stdout",
     "output_type": "stream",
     "text": [
      "Error geocoding (0.0, 0.0): 'Census Blocks'\n",
      "Error geocoding (0.0, 0.0): 'Census Blocks'\n",
      "Error geocoding (0.0, 0.0): 'Census Blocks'\n"
     ]
    },
    {
     "name": "stderr",
     "output_type": "stream",
     "text": [
      " 53%|█████▎    | 5275/10000 [00:04<00:04, 1144.57it/s]"
     ]
    },
    {
     "name": "stdout",
     "output_type": "stream",
     "text": [
      "Error geocoding (0.0, 0.0): 'Census Blocks'\n",
      "Error geocoding (0.0, 0.0): 'Census Blocks'\n"
     ]
    },
    {
     "name": "stderr",
     "output_type": "stream",
     "text": [
      " 57%|█████▋    | 5749/10000 [00:05<00:03, 1166.51it/s]"
     ]
    },
    {
     "name": "stdout",
     "output_type": "stream",
     "text": [
      "Error geocoding (0.0, 0.0): 'Census Blocks'\n",
      "Error geocoding (0.0, 0.0): 'Census Blocks'\n"
     ]
    },
    {
     "name": "stderr",
     "output_type": "stream",
     "text": [
      " 63%|██████▎   | 6344/10000 [00:05<00:03, 1172.69it/s]"
     ]
    },
    {
     "name": "stdout",
     "output_type": "stream",
     "text": [
      "Error geocoding (0.0, 0.0): 'Census Blocks'\n",
      "Error geocoding (0.0, 0.0): 'Census Blocks'\n"
     ]
    },
    {
     "name": "stderr",
     "output_type": "stream",
     "text": [
      " 67%|██████▋   | 6704/10000 [00:05<00:02, 1171.27it/s]"
     ]
    },
    {
     "name": "stdout",
     "output_type": "stream",
     "text": [
      "Error geocoding (0.0, 0.0): 'Census Blocks'\n"
     ]
    },
    {
     "name": "stderr",
     "output_type": "stream",
     "text": [
      " 72%|███████▏  | 7186/10000 [00:06<00:02, 1194.98it/s]"
     ]
    },
    {
     "name": "stdout",
     "output_type": "stream",
     "text": [
      "Error geocoding (0.0, 0.0): 'Census Blocks'\n"
     ]
    },
    {
     "name": "stderr",
     "output_type": "stream",
     "text": [
      " 79%|███████▉  | 7920/10000 [00:06<00:01, 1210.85it/s]"
     ]
    },
    {
     "name": "stdout",
     "output_type": "stream",
     "text": [
      "Error geocoding (0.0, 0.0): 'Census Blocks'\n",
      "Error geocoding (0.0, 0.0): 'Census Blocks'\n"
     ]
    },
    {
     "name": "stderr",
     "output_type": "stream",
     "text": [
      " 84%|████████▍ | 8410/10000 [00:07<00:01, 1211.17it/s]"
     ]
    },
    {
     "name": "stdout",
     "output_type": "stream",
     "text": [
      "Error geocoding (0.0, 0.0): 'Census Blocks'\n",
      "Error geocoding (0.0, 0.0): 'Census Blocks'\n",
      "Error geocoding (0.0, 0.0): 'Census Blocks'\n",
      "Error geocoding (0.0, 0.0): 'Census Blocks'\n"
     ]
    },
    {
     "name": "stderr",
     "output_type": "stream",
     "text": [
      " 89%|████████▉ | 8897/10000 [00:07<00:01, 1094.84it/s]"
     ]
    },
    {
     "name": "stdout",
     "output_type": "stream",
     "text": [
      "Error geocoding (0.0, 0.0): 'Census Blocks'\n"
     ]
    },
    {
     "name": "stderr",
     "output_type": "stream",
     "text": [
      " 94%|█████████▎| 9372/10000 [00:08<00:00, 1145.32it/s]"
     ]
    },
    {
     "name": "stdout",
     "output_type": "stream",
     "text": [
      "Error geocoding (0.0, 0.0): 'Census Blocks'\n"
     ]
    },
    {
     "name": "stderr",
     "output_type": "stream",
     "text": [
      " 96%|█████████▌| 9609/10000 [00:08<00:00, 1162.14it/s]"
     ]
    },
    {
     "name": "stdout",
     "output_type": "stream",
     "text": [
      "Error geocoding (0.0, 0.0): 'Census Blocks'\n"
     ]
    },
    {
     "name": "stderr",
     "output_type": "stream",
     "text": [
      "100%|██████████| 10000/10000 [00:08<00:00, 1151.99it/s]"
     ]
    },
    {
     "name": "stdout",
     "output_type": "stream",
     "text": [
      "Error geocoding (0.0, 0.0): 'Census Blocks'\n"
     ]
    },
    {
     "name": "stderr",
     "output_type": "stream",
     "text": [
      "\n"
     ]
    },
    {
     "data": {
      "text/plain": [
       "9961"
      ]
     },
     "execution_count": 13,
     "metadata": {},
     "output_type": "execute_result"
    }
   ],
   "source": [
    "# Code adapted from:\n",
    "# https://gis.stackexchange.com/questions/363830/applying-the-censusgeocode-package-to-an-entire-dataframe-of-geocoded-data\n",
    "# Defines a geocode function that accepts lat/long and spits out geographies\n",
    "# The code then runs that funciton in parllel (for speed).\n",
    "\n",
    "import pandas as pd\n",
    "import censusgeocode as cg\n",
    "from concurrent.futures import ThreadPoolExecutor\n",
    "from tqdm.notebook import tqdm\n",
    "import glob\n",
    "import json\n",
    "import requests\n",
    "import pandas as pd\n",
    "from pprint import pprint\n",
    "from tqdm import tqdm\n",
    "\n",
    "\n",
    "import requests_cache\n",
    "cache = requests_cache.CachedSession(\"geocode_cache\", backend=\"filesystem\")\n",
    "\n",
    "def geocode(lat, lng):\n",
    "    try:\n",
    "        url = \"https://geocoding.geo.census.gov/geocoder/geographies/coordinates\"\n",
    "        params = {\n",
    "            \"x\": lng,\n",
    "            \"y\": lat,\n",
    "            \"benchmark\": \"Public_AR_Census2020\",\n",
    "            \"vintage\": \"Census2020_Census2020\",\n",
    "            \"format\": \"json\"\n",
    "        }\n",
    "        response = cache.get(url, params=params)\n",
    "        response.raise_for_status()\n",
    "        data = response.json()\n",
    "        census = data['result']['geographies']['Census Blocks'][0]\n",
    "        return census\n",
    "    except Exception as e:\n",
    "        print(f\"Error geocoding ({lat}, {lng}): {e}\")\n",
    "        return None\n",
    "\n",
    "def bulk_geocode(latitudes, longitudes):\n",
    "    \"\"\"\n",
    "    Geocode a list of latitudes and longitudes in parallel (for speed).\n",
    "    \"\"\"\n",
    "\n",
    "    with ThreadPoolExecutor() as tpe:\n",
    "        latitudes = df['LATITUDE']\n",
    "        longitudes = df['LONGITUDE']\n",
    "        mapped_results = tpe.map(geocode, latitudes, longitudes)\n",
    "        data = list(tqdm(mapped_results, total=len(df)))\n",
    "\n",
    "    #return pd.DataFrame(data)\n",
    "        return pd.DataFrame([x for x in data if x])\n",
    "\n",
    "census_geos_df = bulk_geocode(df['LATITUDE'], df['LONGITUDE']) \n",
    "census_geos_df.head()\n",
    "len(census_geos_df)\n"
   ]
  },
  {
   "cell_type": "code",
   "execution_count": 14,
   "metadata": {},
   "outputs": [
    {
     "data": {
      "text/html": [
       "<div>\n",
       "<style scoped>\n",
       "    .dataframe tbody tr th:only-of-type {\n",
       "        vertical-align: middle;\n",
       "    }\n",
       "\n",
       "    .dataframe tbody tr th {\n",
       "        vertical-align: top;\n",
       "    }\n",
       "\n",
       "    .dataframe thead th {\n",
       "        text-align: right;\n",
       "    }\n",
       "</style>\n",
       "<table border=\"1\" class=\"dataframe\">\n",
       "  <thead>\n",
       "    <tr style=\"text-align: right;\">\n",
       "      <th></th>\n",
       "      <th>SUFFIX</th>\n",
       "      <th>POP100</th>\n",
       "      <th>GEOID</th>\n",
       "      <th>CENTLAT</th>\n",
       "      <th>BLOCK</th>\n",
       "      <th>AREAWATER</th>\n",
       "      <th>STATE</th>\n",
       "      <th>BASENAME</th>\n",
       "      <th>OID</th>\n",
       "      <th>LSADC</th>\n",
       "      <th>...</th>\n",
       "      <th>TRACT</th>\n",
       "      <th>CENTLON</th>\n",
       "      <th>BLKGRP</th>\n",
       "      <th>AREALAND</th>\n",
       "      <th>HU100</th>\n",
       "      <th>INTPTLON</th>\n",
       "      <th>MTFCC</th>\n",
       "      <th>LWBLKTYP</th>\n",
       "      <th>UR</th>\n",
       "      <th>COUNTY</th>\n",
       "    </tr>\n",
       "  </thead>\n",
       "  <tbody>\n",
       "    <tr>\n",
       "      <th>0</th>\n",
       "      <td></td>\n",
       "      <td>39</td>\n",
       "      <td>360810769021002</td>\n",
       "      <td>+40.7152988</td>\n",
       "      <td>1002</td>\n",
       "      <td>0</td>\n",
       "      <td>36</td>\n",
       "      <td>1002</td>\n",
       "      <td>210701006114638</td>\n",
       "      <td>BK</td>\n",
       "      <td>...</td>\n",
       "      <td>076902</td>\n",
       "      <td>-073.8333178</td>\n",
       "      <td>1</td>\n",
       "      <td>16299</td>\n",
       "      <td>11</td>\n",
       "      <td>-073.8333178</td>\n",
       "      <td>G5040</td>\n",
       "      <td>L</td>\n",
       "      <td>U</td>\n",
       "      <td>081</td>\n",
       "    </tr>\n",
       "    <tr>\n",
       "      <th>1</th>\n",
       "      <td></td>\n",
       "      <td>119</td>\n",
       "      <td>360470458002000</td>\n",
       "      <td>+40.6256969</td>\n",
       "      <td>2000</td>\n",
       "      <td>0</td>\n",
       "      <td>36</td>\n",
       "      <td>2000</td>\n",
       "      <td>210701004657702</td>\n",
       "      <td>BK</td>\n",
       "      <td>...</td>\n",
       "      <td>045800</td>\n",
       "      <td>-073.9677874</td>\n",
       "      <td>2</td>\n",
       "      <td>21237</td>\n",
       "      <td>35</td>\n",
       "      <td>-073.9677874</td>\n",
       "      <td>G5040</td>\n",
       "      <td>L</td>\n",
       "      <td>U</td>\n",
       "      <td>047</td>\n",
       "    </tr>\n",
       "    <tr>\n",
       "      <th>2</th>\n",
       "      <td></td>\n",
       "      <td>552</td>\n",
       "      <td>360810125002000</td>\n",
       "      <td>+40.7724818</td>\n",
       "      <td>2000</td>\n",
       "      <td>0</td>\n",
       "      <td>36</td>\n",
       "      <td>2000</td>\n",
       "      <td>210701006109175</td>\n",
       "      <td>BK</td>\n",
       "      <td>...</td>\n",
       "      <td>012500</td>\n",
       "      <td>-073.9176480</td>\n",
       "      <td>2</td>\n",
       "      <td>18017</td>\n",
       "      <td>244</td>\n",
       "      <td>-073.9176480</td>\n",
       "      <td>G5040</td>\n",
       "      <td>L</td>\n",
       "      <td>U</td>\n",
       "      <td>081</td>\n",
       "    </tr>\n",
       "    <tr>\n",
       "      <th>3</th>\n",
       "      <td></td>\n",
       "      <td>1051</td>\n",
       "      <td>360050199004002</td>\n",
       "      <td>+40.8365484</td>\n",
       "      <td>4002</td>\n",
       "      <td>0</td>\n",
       "      <td>36</td>\n",
       "      <td>4002</td>\n",
       "      <td>210701006027606</td>\n",
       "      <td>BK</td>\n",
       "      <td>...</td>\n",
       "      <td>019900</td>\n",
       "      <td>-073.9280507</td>\n",
       "      <td>4</td>\n",
       "      <td>19844</td>\n",
       "      <td>401</td>\n",
       "      <td>-073.9280507</td>\n",
       "      <td>G5040</td>\n",
       "      <td>L</td>\n",
       "      <td>U</td>\n",
       "      <td>005</td>\n",
       "    </tr>\n",
       "    <tr>\n",
       "      <th>4</th>\n",
       "      <td></td>\n",
       "      <td>65</td>\n",
       "      <td>360850170051019</td>\n",
       "      <td>+40.5397084</td>\n",
       "      <td>1019</td>\n",
       "      <td>0</td>\n",
       "      <td>36</td>\n",
       "      <td>1019</td>\n",
       "      <td>210701004607689</td>\n",
       "      <td>BK</td>\n",
       "      <td>...</td>\n",
       "      <td>017005</td>\n",
       "      <td>-074.1801431</td>\n",
       "      <td>1</td>\n",
       "      <td>25041</td>\n",
       "      <td>34</td>\n",
       "      <td>-074.1801431</td>\n",
       "      <td>G5040</td>\n",
       "      <td>L</td>\n",
       "      <td>U</td>\n",
       "      <td>085</td>\n",
       "    </tr>\n",
       "    <tr>\n",
       "      <th>...</th>\n",
       "      <td>...</td>\n",
       "      <td>...</td>\n",
       "      <td>...</td>\n",
       "      <td>...</td>\n",
       "      <td>...</td>\n",
       "      <td>...</td>\n",
       "      <td>...</td>\n",
       "      <td>...</td>\n",
       "      <td>...</td>\n",
       "      <td>...</td>\n",
       "      <td>...</td>\n",
       "      <td>...</td>\n",
       "      <td>...</td>\n",
       "      <td>...</td>\n",
       "      <td>...</td>\n",
       "      <td>...</td>\n",
       "      <td>...</td>\n",
       "      <td>...</td>\n",
       "      <td>...</td>\n",
       "      <td>...</td>\n",
       "      <td>...</td>\n",
       "    </tr>\n",
       "    <tr>\n",
       "      <th>9956</th>\n",
       "      <td></td>\n",
       "      <td>0</td>\n",
       "      <td>360470085001000</td>\n",
       "      <td>+40.6776725</td>\n",
       "      <td>1000</td>\n",
       "      <td>0</td>\n",
       "      <td>36</td>\n",
       "      <td>1000</td>\n",
       "      <td>210701004651390</td>\n",
       "      <td>BK</td>\n",
       "      <td>...</td>\n",
       "      <td>008500</td>\n",
       "      <td>-074.0084680</td>\n",
       "      <td>1</td>\n",
       "      <td>39824</td>\n",
       "      <td>0</td>\n",
       "      <td>-074.0084680</td>\n",
       "      <td>G5040</td>\n",
       "      <td>L</td>\n",
       "      <td>U</td>\n",
       "      <td>047</td>\n",
       "    </tr>\n",
       "    <tr>\n",
       "      <th>9957</th>\n",
       "      <td></td>\n",
       "      <td>225</td>\n",
       "      <td>360470119011009</td>\n",
       "      <td>+40.6724138</td>\n",
       "      <td>1009</td>\n",
       "      <td>0</td>\n",
       "      <td>36</td>\n",
       "      <td>1009</td>\n",
       "      <td>210701004649753</td>\n",
       "      <td>BK</td>\n",
       "      <td>...</td>\n",
       "      <td>011901</td>\n",
       "      <td>-073.9886116</td>\n",
       "      <td>1</td>\n",
       "      <td>18250</td>\n",
       "      <td>140</td>\n",
       "      <td>-073.9886116</td>\n",
       "      <td>G5040</td>\n",
       "      <td>L</td>\n",
       "      <td>U</td>\n",
       "      <td>047</td>\n",
       "    </tr>\n",
       "    <tr>\n",
       "      <th>9958</th>\n",
       "      <td></td>\n",
       "      <td>599</td>\n",
       "      <td>360050425005000</td>\n",
       "      <td>+40.8723242</td>\n",
       "      <td>5000</td>\n",
       "      <td>0</td>\n",
       "      <td>36</td>\n",
       "      <td>5000</td>\n",
       "      <td>210701006027787</td>\n",
       "      <td>BK</td>\n",
       "      <td>...</td>\n",
       "      <td>042500</td>\n",
       "      <td>-073.8762752</td>\n",
       "      <td>5</td>\n",
       "      <td>22486</td>\n",
       "      <td>199</td>\n",
       "      <td>-073.8762752</td>\n",
       "      <td>G5040</td>\n",
       "      <td>L</td>\n",
       "      <td>U</td>\n",
       "      <td>005</td>\n",
       "    </tr>\n",
       "    <tr>\n",
       "      <th>9959</th>\n",
       "      <td></td>\n",
       "      <td>165</td>\n",
       "      <td>360610303001000</td>\n",
       "      <td>+40.8693802</td>\n",
       "      <td>1000</td>\n",
       "      <td>0</td>\n",
       "      <td>36</td>\n",
       "      <td>1000</td>\n",
       "      <td>210701008620522</td>\n",
       "      <td>BK</td>\n",
       "      <td>...</td>\n",
       "      <td>030300</td>\n",
       "      <td>-073.9158884</td>\n",
       "      <td>1</td>\n",
       "      <td>7092</td>\n",
       "      <td>72</td>\n",
       "      <td>-073.9158884</td>\n",
       "      <td>G5040</td>\n",
       "      <td>L</td>\n",
       "      <td>U</td>\n",
       "      <td>061</td>\n",
       "    </tr>\n",
       "    <tr>\n",
       "      <th>9960</th>\n",
       "      <td></td>\n",
       "      <td>480</td>\n",
       "      <td>360050141002000</td>\n",
       "      <td>+40.8230645</td>\n",
       "      <td>2000</td>\n",
       "      <td>0</td>\n",
       "      <td>36</td>\n",
       "      <td>2000</td>\n",
       "      <td>210701006017798</td>\n",
       "      <td>BK</td>\n",
       "      <td>...</td>\n",
       "      <td>014100</td>\n",
       "      <td>-073.9084005</td>\n",
       "      <td>2</td>\n",
       "      <td>10183</td>\n",
       "      <td>172</td>\n",
       "      <td>-073.9084005</td>\n",
       "      <td>G5040</td>\n",
       "      <td>L</td>\n",
       "      <td>U</td>\n",
       "      <td>005</td>\n",
       "    </tr>\n",
       "  </tbody>\n",
       "</table>\n",
       "<p>9961 rows × 24 columns</p>\n",
       "</div>"
      ],
      "text/plain": [
       "     SUFFIX  POP100            GEOID      CENTLAT BLOCK  AREAWATER STATE  \\\n",
       "0                39  360810769021002  +40.7152988  1002          0    36   \n",
       "1               119  360470458002000  +40.6256969  2000          0    36   \n",
       "2               552  360810125002000  +40.7724818  2000          0    36   \n",
       "3              1051  360050199004002  +40.8365484  4002          0    36   \n",
       "4                65  360850170051019  +40.5397084  1019          0    36   \n",
       "...     ...     ...              ...          ...   ...        ...   ...   \n",
       "9956              0  360470085001000  +40.6776725  1000          0    36   \n",
       "9957            225  360470119011009  +40.6724138  1009          0    36   \n",
       "9958            599  360050425005000  +40.8723242  5000          0    36   \n",
       "9959            165  360610303001000  +40.8693802  1000          0    36   \n",
       "9960            480  360050141002000  +40.8230645  2000          0    36   \n",
       "\n",
       "     BASENAME              OID LSADC  ...   TRACT       CENTLON BLKGRP  \\\n",
       "0        1002  210701006114638    BK  ...  076902  -073.8333178      1   \n",
       "1        2000  210701004657702    BK  ...  045800  -073.9677874      2   \n",
       "2        2000  210701006109175    BK  ...  012500  -073.9176480      2   \n",
       "3        4002  210701006027606    BK  ...  019900  -073.9280507      4   \n",
       "4        1019  210701004607689    BK  ...  017005  -074.1801431      1   \n",
       "...       ...              ...   ...  ...     ...           ...    ...   \n",
       "9956     1000  210701004651390    BK  ...  008500  -074.0084680      1   \n",
       "9957     1009  210701004649753    BK  ...  011901  -073.9886116      1   \n",
       "9958     5000  210701006027787    BK  ...  042500  -073.8762752      5   \n",
       "9959     1000  210701008620522    BK  ...  030300  -073.9158884      1   \n",
       "9960     2000  210701006017798    BK  ...  014100  -073.9084005      2   \n",
       "\n",
       "      AREALAND HU100      INTPTLON  MTFCC  LWBLKTYP  UR COUNTY  \n",
       "0        16299    11  -073.8333178  G5040         L   U    081  \n",
       "1        21237    35  -073.9677874  G5040         L   U    047  \n",
       "2        18017   244  -073.9176480  G5040         L   U    081  \n",
       "3        19844   401  -073.9280507  G5040         L   U    005  \n",
       "4        25041    34  -074.1801431  G5040         L   U    085  \n",
       "...        ...   ...           ...    ...       ...  ..    ...  \n",
       "9956     39824     0  -074.0084680  G5040         L   U    047  \n",
       "9957     18250   140  -073.9886116  G5040         L   U    047  \n",
       "9958     22486   199  -073.8762752  G5040         L   U    005  \n",
       "9959      7092    72  -073.9158884  G5040         L   U    061  \n",
       "9960     10183   172  -073.9084005  G5040         L   U    005  \n",
       "\n",
       "[9961 rows x 24 columns]"
      ]
     },
     "execution_count": 14,
     "metadata": {},
     "output_type": "execute_result"
    }
   ],
   "source": [
    "census_geos_df"
   ]
  },
  {
   "cell_type": "code",
   "execution_count": null,
   "metadata": {},
   "outputs": [],
   "source": []
  },
  {
   "cell_type": "markdown",
   "metadata": {},
   "source": [
    "## 👉 Output Data\n",
    "\n",
    "Output your dataframe containing your data and the Census connector codes (like tract, block, etc...)."
   ]
  },
  {
   "cell_type": "code",
   "execution_count": 16,
   "metadata": {},
   "outputs": [
    {
     "data": {
      "text/html": [
       "<div>\n",
       "<style scoped>\n",
       "    .dataframe tbody tr th:only-of-type {\n",
       "        vertical-align: middle;\n",
       "    }\n",
       "\n",
       "    .dataframe tbody tr th {\n",
       "        vertical-align: top;\n",
       "    }\n",
       "\n",
       "    .dataframe thead th {\n",
       "        text-align: right;\n",
       "    }\n",
       "</style>\n",
       "<table border=\"1\" class=\"dataframe\">\n",
       "  <thead>\n",
       "    <tr style=\"text-align: right;\">\n",
       "      <th></th>\n",
       "      <th>GEOID</th>\n",
       "      <th>STATE</th>\n",
       "      <th>COUNTY</th>\n",
       "      <th>TRACT</th>\n",
       "      <th>BLOCK</th>\n",
       "    </tr>\n",
       "  </thead>\n",
       "  <tbody>\n",
       "    <tr>\n",
       "      <th>0</th>\n",
       "      <td>360810769021002</td>\n",
       "      <td>36</td>\n",
       "      <td>081</td>\n",
       "      <td>076902</td>\n",
       "      <td>1002</td>\n",
       "    </tr>\n",
       "    <tr>\n",
       "      <th>1</th>\n",
       "      <td>360470458002000</td>\n",
       "      <td>36</td>\n",
       "      <td>047</td>\n",
       "      <td>045800</td>\n",
       "      <td>2000</td>\n",
       "    </tr>\n",
       "    <tr>\n",
       "      <th>2</th>\n",
       "      <td>360810125002000</td>\n",
       "      <td>36</td>\n",
       "      <td>081</td>\n",
       "      <td>012500</td>\n",
       "      <td>2000</td>\n",
       "    </tr>\n",
       "    <tr>\n",
       "      <th>3</th>\n",
       "      <td>360050199004002</td>\n",
       "      <td>36</td>\n",
       "      <td>005</td>\n",
       "      <td>019900</td>\n",
       "      <td>4002</td>\n",
       "    </tr>\n",
       "    <tr>\n",
       "      <th>4</th>\n",
       "      <td>360850170051019</td>\n",
       "      <td>36</td>\n",
       "      <td>085</td>\n",
       "      <td>017005</td>\n",
       "      <td>1019</td>\n",
       "    </tr>\n",
       "    <tr>\n",
       "      <th>...</th>\n",
       "      <td>...</td>\n",
       "      <td>...</td>\n",
       "      <td>...</td>\n",
       "      <td>...</td>\n",
       "      <td>...</td>\n",
       "    </tr>\n",
       "    <tr>\n",
       "      <th>9956</th>\n",
       "      <td>360470085001000</td>\n",
       "      <td>36</td>\n",
       "      <td>047</td>\n",
       "      <td>008500</td>\n",
       "      <td>1000</td>\n",
       "    </tr>\n",
       "    <tr>\n",
       "      <th>9957</th>\n",
       "      <td>360470119011009</td>\n",
       "      <td>36</td>\n",
       "      <td>047</td>\n",
       "      <td>011901</td>\n",
       "      <td>1009</td>\n",
       "    </tr>\n",
       "    <tr>\n",
       "      <th>9958</th>\n",
       "      <td>360050425005000</td>\n",
       "      <td>36</td>\n",
       "      <td>005</td>\n",
       "      <td>042500</td>\n",
       "      <td>5000</td>\n",
       "    </tr>\n",
       "    <tr>\n",
       "      <th>9959</th>\n",
       "      <td>360610303001000</td>\n",
       "      <td>36</td>\n",
       "      <td>061</td>\n",
       "      <td>030300</td>\n",
       "      <td>1000</td>\n",
       "    </tr>\n",
       "    <tr>\n",
       "      <th>9960</th>\n",
       "      <td>360050141002000</td>\n",
       "      <td>36</td>\n",
       "      <td>005</td>\n",
       "      <td>014100</td>\n",
       "      <td>2000</td>\n",
       "    </tr>\n",
       "  </tbody>\n",
       "</table>\n",
       "<p>9961 rows × 5 columns</p>\n",
       "</div>"
      ],
      "text/plain": [
       "                GEOID STATE COUNTY   TRACT BLOCK\n",
       "0     360810769021002    36    081  076902  1002\n",
       "1     360470458002000    36    047  045800  2000\n",
       "2     360810125002000    36    081  012500  2000\n",
       "3     360050199004002    36    005  019900  4002\n",
       "4     360850170051019    36    085  017005  1019\n",
       "...               ...   ...    ...     ...   ...\n",
       "9956  360470085001000    36    047  008500  1000\n",
       "9957  360470119011009    36    047  011901  1009\n",
       "9958  360050425005000    36    005  042500  5000\n",
       "9959  360610303001000    36    061  030300  1000\n",
       "9960  360050141002000    36    005  014100  2000\n",
       "\n",
       "[9961 rows x 5 columns]"
      ]
     },
     "execution_count": 16,
     "metadata": {},
     "output_type": "execute_result"
    }
   ],
   "source": [
    "to_keep = ['GEOID', 'STATE', 'COUNTY', 'TRACT', 'BLOCK']\n",
    "census_geos_df = census_geos_df[to_keep]\n",
    "census_geos_df"
   ]
  },
  {
   "cell_type": "code",
   "execution_count": 17,
   "metadata": {},
   "outputs": [
    {
     "data": {
      "text/html": [
       "<div>\n",
       "<style scoped>\n",
       "    .dataframe tbody tr th:only-of-type {\n",
       "        vertical-align: middle;\n",
       "    }\n",
       "\n",
       "    .dataframe tbody tr th {\n",
       "        vertical-align: top;\n",
       "    }\n",
       "\n",
       "    .dataframe thead th {\n",
       "        text-align: right;\n",
       "    }\n",
       "</style>\n",
       "<table border=\"1\" class=\"dataframe\">\n",
       "  <thead>\n",
       "    <tr style=\"text-align: right;\">\n",
       "      <th></th>\n",
       "      <th>CRASH DATE</th>\n",
       "      <th>CRASH TIME</th>\n",
       "      <th>BOROUGH</th>\n",
       "      <th>ZIP CODE</th>\n",
       "      <th>LATITUDE</th>\n",
       "      <th>LONGITUDE</th>\n",
       "      <th>LOCATION</th>\n",
       "      <th>ON STREET NAME</th>\n",
       "      <th>CROSS STREET NAME</th>\n",
       "      <th>OFF STREET NAME</th>\n",
       "      <th>...</th>\n",
       "      <th>VEHICLE TYPE CODE 1</th>\n",
       "      <th>VEHICLE TYPE CODE 2</th>\n",
       "      <th>VEHICLE TYPE CODE 3</th>\n",
       "      <th>VEHICLE TYPE CODE 4</th>\n",
       "      <th>VEHICLE TYPE CODE 5</th>\n",
       "      <th>GEOID</th>\n",
       "      <th>STATE</th>\n",
       "      <th>COUNTY</th>\n",
       "      <th>TRACT</th>\n",
       "      <th>BLOCK</th>\n",
       "    </tr>\n",
       "  </thead>\n",
       "  <tbody>\n",
       "    <tr>\n",
       "      <th>0</th>\n",
       "      <td>2023-08-08</td>\n",
       "      <td>17:11:00</td>\n",
       "      <td>QUEENS</td>\n",
       "      <td>11375.0</td>\n",
       "      <td>40.715120</td>\n",
       "      <td>-73.832240</td>\n",
       "      <td>(40.71512, -73.83224)</td>\n",
       "      <td>QUEENS BOULEVARD</td>\n",
       "      <td>78 AVENUE</td>\n",
       "      <td>NaN</td>\n",
       "      <td>...</td>\n",
       "      <td>Sedan</td>\n",
       "      <td>Station Wagon/Sport Utility Vehicle</td>\n",
       "      <td>NaN</td>\n",
       "      <td>NaN</td>\n",
       "      <td>NaN</td>\n",
       "      <td>360810769021002</td>\n",
       "      <td>36</td>\n",
       "      <td>081</td>\n",
       "      <td>076902</td>\n",
       "      <td>1002</td>\n",
       "    </tr>\n",
       "    <tr>\n",
       "      <th>1</th>\n",
       "      <td>2023-10-26</td>\n",
       "      <td>18:00:00</td>\n",
       "      <td>NaN</td>\n",
       "      <td>NaN</td>\n",
       "      <td>40.624554</td>\n",
       "      <td>-73.967100</td>\n",
       "      <td>(40.624554, -73.9671)</td>\n",
       "      <td>EAST 9 STREET</td>\n",
       "      <td>NaN</td>\n",
       "      <td>NaN</td>\n",
       "      <td>...</td>\n",
       "      <td>Sedan</td>\n",
       "      <td>Bus</td>\n",
       "      <td>NaN</td>\n",
       "      <td>NaN</td>\n",
       "      <td>NaN</td>\n",
       "      <td>360470458002000</td>\n",
       "      <td>36</td>\n",
       "      <td>047</td>\n",
       "      <td>045800</td>\n",
       "      <td>2000</td>\n",
       "    </tr>\n",
       "    <tr>\n",
       "      <th>2</th>\n",
       "      <td>2023-07-18</td>\n",
       "      <td>16:07:00</td>\n",
       "      <td>QUEENS</td>\n",
       "      <td>11102.0</td>\n",
       "      <td>40.772083</td>\n",
       "      <td>-73.917520</td>\n",
       "      <td>(40.772083, -73.91752)</td>\n",
       "      <td>NaN</td>\n",
       "      <td>NaN</td>\n",
       "      <td>24-46     29 STREET</td>\n",
       "      <td>...</td>\n",
       "      <td>Sedan</td>\n",
       "      <td>Station Wagon/Sport Utility Vehicle</td>\n",
       "      <td>NaN</td>\n",
       "      <td>NaN</td>\n",
       "      <td>NaN</td>\n",
       "      <td>360810125002000</td>\n",
       "      <td>36</td>\n",
       "      <td>081</td>\n",
       "      <td>012500</td>\n",
       "      <td>2000</td>\n",
       "    </tr>\n",
       "    <tr>\n",
       "      <th>3</th>\n",
       "      <td>2023-05-07</td>\n",
       "      <td>02:30:00</td>\n",
       "      <td>BRONX</td>\n",
       "      <td>10452.0</td>\n",
       "      <td>40.836320</td>\n",
       "      <td>-73.927480</td>\n",
       "      <td>(40.83632, -73.92748)</td>\n",
       "      <td>NaN</td>\n",
       "      <td>NaN</td>\n",
       "      <td>1133      OGDEN AVENUE</td>\n",
       "      <td>...</td>\n",
       "      <td>Sedan</td>\n",
       "      <td>Sedan</td>\n",
       "      <td>Sedan</td>\n",
       "      <td>NaN</td>\n",
       "      <td>NaN</td>\n",
       "      <td>360050199004002</td>\n",
       "      <td>36</td>\n",
       "      <td>005</td>\n",
       "      <td>019900</td>\n",
       "      <td>4002</td>\n",
       "    </tr>\n",
       "    <tr>\n",
       "      <th>4</th>\n",
       "      <td>2023-01-22</td>\n",
       "      <td>03:47:00</td>\n",
       "      <td>NaN</td>\n",
       "      <td>NaN</td>\n",
       "      <td>40.540500</td>\n",
       "      <td>-74.177315</td>\n",
       "      <td>(40.5405, -74.177315)</td>\n",
       "      <td>SNEDEN AVENUE</td>\n",
       "      <td>NaN</td>\n",
       "      <td>NaN</td>\n",
       "      <td>...</td>\n",
       "      <td>Sedan</td>\n",
       "      <td>Pick-up Truck</td>\n",
       "      <td>NaN</td>\n",
       "      <td>NaN</td>\n",
       "      <td>NaN</td>\n",
       "      <td>360850170051019</td>\n",
       "      <td>36</td>\n",
       "      <td>085</td>\n",
       "      <td>017005</td>\n",
       "      <td>1019</td>\n",
       "    </tr>\n",
       "  </tbody>\n",
       "</table>\n",
       "<p>5 rows × 34 columns</p>\n",
       "</div>"
      ],
      "text/plain": [
       "   CRASH DATE CRASH TIME BOROUGH  ZIP CODE   LATITUDE  LONGITUDE  \\\n",
       "0  2023-08-08   17:11:00  QUEENS   11375.0  40.715120 -73.832240   \n",
       "1  2023-10-26   18:00:00     NaN       NaN  40.624554 -73.967100   \n",
       "2  2023-07-18   16:07:00  QUEENS   11102.0  40.772083 -73.917520   \n",
       "3  2023-05-07   02:30:00   BRONX   10452.0  40.836320 -73.927480   \n",
       "4  2023-01-22   03:47:00     NaN       NaN  40.540500 -74.177315   \n",
       "\n",
       "                 LOCATION    ON STREET NAME CROSS STREET NAME  \\\n",
       "0   (40.71512, -73.83224)  QUEENS BOULEVARD         78 AVENUE   \n",
       "1   (40.624554, -73.9671)     EAST 9 STREET               NaN   \n",
       "2  (40.772083, -73.91752)               NaN               NaN   \n",
       "3   (40.83632, -73.92748)               NaN               NaN   \n",
       "4   (40.5405, -74.177315)     SNEDEN AVENUE               NaN   \n",
       "\n",
       "          OFF STREET NAME  ...  VEHICLE TYPE CODE 1  \\\n",
       "0                     NaN  ...                Sedan   \n",
       "1                     NaN  ...                Sedan   \n",
       "2     24-46     29 STREET  ...                Sedan   \n",
       "3  1133      OGDEN AVENUE  ...                Sedan   \n",
       "4                     NaN  ...                Sedan   \n",
       "\n",
       "                   VEHICLE TYPE CODE 2  VEHICLE TYPE CODE 3  \\\n",
       "0  Station Wagon/Sport Utility Vehicle                  NaN   \n",
       "1                                  Bus                  NaN   \n",
       "2  Station Wagon/Sport Utility Vehicle                  NaN   \n",
       "3                                Sedan                Sedan   \n",
       "4                        Pick-up Truck                  NaN   \n",
       "\n",
       "   VEHICLE TYPE CODE 4  VEHICLE TYPE CODE 5            GEOID  STATE  COUNTY  \\\n",
       "0                  NaN                  NaN  360810769021002     36     081   \n",
       "1                  NaN                  NaN  360470458002000     36     047   \n",
       "2                  NaN                  NaN  360810125002000     36     081   \n",
       "3                  NaN                  NaN  360050199004002     36     005   \n",
       "4                  NaN                  NaN  360850170051019     36     085   \n",
       "\n",
       "    TRACT BLOCK  \n",
       "0  076902  1002  \n",
       "1  045800  2000  \n",
       "2  012500  2000  \n",
       "3  019900  4002  \n",
       "4  017005  1019  \n",
       "\n",
       "[5 rows x 34 columns]"
      ]
     },
     "execution_count": 17,
     "metadata": {},
     "output_type": "execute_result"
    }
   ],
   "source": [
    "df_with_geos = pd.concat(\n",
    "    [ \n",
    "        df.reset_index(drop=True),\n",
    "        census_geos_df.reset_index(drop=True)\n",
    "    ], \n",
    "    axis=1)\n",
    "\n",
    "df_with_geos.head()"
   ]
  },
  {
   "cell_type": "code",
   "execution_count": 18,
   "metadata": {},
   "outputs": [],
   "source": [
    "# Saving the DataFrame as a CSV file\n",
    "df_with_geos.to_csv('geocoded_col_10k.csv', index=False)\n"
   ]
  },
  {
   "cell_type": "code",
   "execution_count": null,
   "metadata": {},
   "outputs": [],
   "source": []
  },
  {
   "cell_type": "code",
   "execution_count": null,
   "metadata": {},
   "outputs": [],
   "source": []
  }
 ],
 "metadata": {
  "kernelspec": {
   "display_name": "Python 3 (ipykernel)",
   "language": "python",
   "name": "python3"
  },
  "language_info": {
   "codemirror_mode": {
    "name": "ipython",
    "version": 3
   },
   "file_extension": ".py",
   "mimetype": "text/x-python",
   "name": "python",
   "nbconvert_exporter": "python",
   "pygments_lexer": "ipython3",
   "version": "3.11.6"
  }
 },
 "nbformat": 4,
 "nbformat_minor": 4
}
