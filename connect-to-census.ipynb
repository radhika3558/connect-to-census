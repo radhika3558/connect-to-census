{
 "cells": [
  {
   "cell_type": "markdown",
   "metadata": {},
   "source": [
    "# Notebook Title"
   ]
  },
  {
   "cell_type": "markdown",
   "metadata": {},
   "source": [
    "## Setup Python and R environment\n",
    "you can ignore this section"
   ]
  },
  {
   "cell_type": "code",
   "execution_count": 19,
   "metadata": {},
   "outputs": [
    {
     "name": "stdout",
     "output_type": "stream",
     "text": [
      "The rpy2.ipython extension is already loaded. To reload it, use:\n",
      "  %reload_ext rpy2.ipython\n",
      "The autoreload extension is already loaded. To reload it, use:\n",
      "  %reload_ext autoreload\n"
     ]
    }
   ],
   "source": [
    "%load_ext rpy2.ipython\n",
    "%load_ext autoreload\n",
    "%autoreload 2\n",
    "\n",
    "%matplotlib inline  \n",
    "from matplotlib import rcParams\n",
    "rcParams['figure.figsize'] = (16, 100)\n",
    "\n",
    "import warnings\n",
    "from rpy2.rinterface import RRuntimeWarning\n",
    "warnings.filterwarnings(\"ignore\") # Ignore all warnings\n",
    "# warnings.filterwarnings(\"ignore\", category=RRuntimeWarning) # Show some warnings\n",
    "\n",
    "import pandas as pd\n",
    "import numpy as np\n",
    "import matplotlib.pyplot as plt\n",
    "from IPython.display import display, HTML"
   ]
  },
  {
   "cell_type": "code",
   "execution_count": 20,
   "metadata": {},
   "outputs": [
    {
     "data": {
      "application/javascript": "// Disable auto-scrolling\nIPython.OutputArea.prototype._should_scroll = function(lines) {\n    return false;\n}\n",
      "text/plain": [
       "<IPython.core.display.Javascript object>"
      ]
     },
     "metadata": {},
     "output_type": "display_data"
    }
   ],
   "source": [
    "%%javascript\n",
    "// Disable auto-scrolling\n",
    "IPython.OutputArea.prototype._should_scroll = function(lines) {\n",
    "    return false;\n",
    "}"
   ]
  },
  {
   "cell_type": "code",
   "execution_count": 21,
   "metadata": {},
   "outputs": [],
   "source": [
    "%%R\n",
    "\n",
    "# My commonly used R imports\n",
    "\n",
    "require('tidyverse')"
   ]
  },
  {
   "cell_type": "markdown",
   "metadata": {},
   "source": [
    "## 👉 download your data\n",
    "\n",
    "You can write code here to download your dataset. Or if you already have it, just leave the URL in the comments and just load it into a pandas or R (or both) dataframe."
   ]
  },
  {
   "cell_type": "code",
   "execution_count": 22,
   "metadata": {},
   "outputs": [],
   "source": [
    "#Motor vehicle collisions 2023, dropped rows without lat/long as there were 7300 rows and I dont have API credits https://data.cityofnewyork.us/Public-Safety/Motor-Vehicle-Collisions-Crashes/h9gi-nx95/about_data\n",
    "import pandas as pd\n",
    "\n",
    "df = pd.read_csv('df_cleaned.csv')"
   ]
  },
  {
   "cell_type": "code",
   "execution_count": 23,
   "metadata": {},
   "outputs": [],
   "source": [
    "df =df.sample(10000)"
   ]
  },
  {
   "cell_type": "code",
   "execution_count": 24,
   "metadata": {},
   "outputs": [
    {
     "name": "stdout",
     "output_type": "stream",
     "text": [
      "CRASH DATE                        object\n",
      "CRASH TIME                        object\n",
      "BOROUGH                           object\n",
      "ZIP CODE                         float64\n",
      "LATITUDE                         float64\n",
      "LONGITUDE                        float64\n",
      "LOCATION                          object\n",
      "ON STREET NAME                    object\n",
      "CROSS STREET NAME                 object\n",
      "OFF STREET NAME                   object\n",
      "NUMBER OF PERSONS INJURED          int64\n",
      "NUMBER OF PERSONS KILLED           int64\n",
      "NUMBER OF PEDESTRIANS INJURED      int64\n",
      "NUMBER OF PEDESTRIANS KILLED       int64\n",
      "NUMBER OF CYCLIST INJURED          int64\n",
      "NUMBER OF CYCLIST KILLED           int64\n",
      "NUMBER OF MOTORIST INJURED         int64\n",
      "NUMBER OF MOTORIST KILLED          int64\n",
      "CONTRIBUTING FACTOR VEHICLE 1     object\n",
      "CONTRIBUTING FACTOR VEHICLE 2     object\n",
      "CONTRIBUTING FACTOR VEHICLE 3     object\n",
      "CONTRIBUTING FACTOR VEHICLE 4     object\n",
      "CONTRIBUTING FACTOR VEHICLE 5     object\n",
      "COLLISION_ID                       int64\n",
      "VEHICLE TYPE CODE 1               object\n",
      "VEHICLE TYPE CODE 2               object\n",
      "VEHICLE TYPE CODE 3               object\n",
      "VEHICLE TYPE CODE 4               object\n",
      "VEHICLE TYPE CODE 5               object\n",
      "dtype: object\n"
     ]
    }
   ],
   "source": [
    "print(df.dtypes)"
   ]
  },
  {
   "cell_type": "code",
   "execution_count": null,
   "metadata": {},
   "outputs": [],
   "source": []
  },
  {
   "cell_type": "markdown",
   "metadata": {},
   "source": [
    "## 👉 convert addresses --> lat/long \n",
    "\n",
    "See the [census-examples](https://github.com/data4news/census-examples) repository for examples. If you need help, try asking in the class slack channel. Chances are someone in the class is struggling with the same problem as you are so we might as well all learn together in the same slack channel! "
   ]
  },
  {
   "cell_type": "code",
   "execution_count": 25,
   "metadata": {},
   "outputs": [],
   "source": [
    "# Save the df_cleaned DataFrame as a CSV file\n",
    "df.to_csv('df_cleaned3.csv', index=False)\n"
   ]
  },
  {
   "cell_type": "code",
   "execution_count": null,
   "metadata": {},
   "outputs": [],
   "source": []
  },
  {
   "cell_type": "code",
   "execution_count": null,
   "metadata": {},
   "outputs": [],
   "source": []
  },
  {
   "cell_type": "markdown",
   "metadata": {},
   "source": [
    "## 👉 convert lat/long to census geography codes \n",
    "\n",
    "(like 'GEOID', 'STATE', 'COUNTY', 'TRACT', 'BLOCK', etc...)\n",
    "\n",
    "Same note as above, see [census-examples](https://github.com/data4news/census-examples) repository for examples or ask in the class slack channel if stuck."
   ]
  },
  {
   "cell_type": "markdown",
   "metadata": {},
   "source": []
  },
  {
   "cell_type": "code",
   "execution_count": 26,
   "metadata": {},
   "outputs": [
    {
     "name": "stderr",
     "output_type": "stream",
     "text": [
      "  1%|          | 72/10000 [00:01<02:44, 60.20it/s] "
     ]
    },
    {
     "name": "stdout",
     "output_type": "stream",
     "text": [
      "Error geocoding (0.0, 0.0): 'Census Blocks'\n"
     ]
    },
    {
     "name": "stderr",
     "output_type": "stream",
     "text": [
      "  2%|▏         | 166/10000 [00:03<02:45, 59.59it/s]"
     ]
    },
    {
     "name": "stdout",
     "output_type": "stream",
     "text": [
      "Error geocoding (0.0, 0.0): 'Census Blocks'\n"
     ]
    },
    {
     "name": "stderr",
     "output_type": "stream",
     "text": [
      "  8%|▊         | 841/10000 [00:13<02:18, 66.19it/s]"
     ]
    },
    {
     "name": "stdout",
     "output_type": "stream",
     "text": [
      "Error geocoding (0.0, 0.0): 'Census Blocks'\n"
     ]
    },
    {
     "name": "stderr",
     "output_type": "stream",
     "text": [
      " 13%|█▎        | 1303/10000 [00:20<02:13, 64.99it/s]"
     ]
    },
    {
     "name": "stdout",
     "output_type": "stream",
     "text": [
      "Error geocoding (0.0, 0.0): 'Census Blocks'\n"
     ]
    },
    {
     "name": "stderr",
     "output_type": "stream",
     "text": [
      " 15%|█▍        | 1458/10000 [00:23<02:11, 64.85it/s]"
     ]
    },
    {
     "name": "stdout",
     "output_type": "stream",
     "text": [
      "Error geocoding (0.0, 0.0): 'Census Blocks'\n"
     ]
    },
    {
     "name": "stderr",
     "output_type": "stream",
     "text": [
      " 19%|█▊        | 1857/10000 [00:29<02:06, 64.43it/s]"
     ]
    },
    {
     "name": "stdout",
     "output_type": "stream",
     "text": [
      "Error geocoding (0.0, 0.0): 'Census Blocks'\n"
     ]
    },
    {
     "name": "stderr",
     "output_type": "stream",
     "text": [
      " 24%|██▍       | 2409/10000 [00:37<01:41, 74.48it/s]"
     ]
    },
    {
     "name": "stdout",
     "output_type": "stream",
     "text": [
      "Error geocoding (0.0, 0.0): 'Census Blocks'\n"
     ]
    },
    {
     "name": "stderr",
     "output_type": "stream",
     "text": [
      " 25%|██▌       | 2539/10000 [00:39<01:54, 65.04it/s]"
     ]
    },
    {
     "name": "stdout",
     "output_type": "stream",
     "text": [
      "Error geocoding (0.0, 0.0): 'Census Blocks'\n"
     ]
    },
    {
     "name": "stderr",
     "output_type": "stream",
     "text": [
      " 26%|██▌       | 2574/10000 [00:40<01:48, 68.21it/s]"
     ]
    },
    {
     "name": "stdout",
     "output_type": "stream",
     "text": [
      "Error geocoding (0.0, 0.0): 'Census Blocks'\n"
     ]
    },
    {
     "name": "stderr",
     "output_type": "stream",
     "text": [
      " 38%|███▊      | 3764/10000 [00:57<01:24, 73.43it/s]"
     ]
    },
    {
     "name": "stdout",
     "output_type": "stream",
     "text": [
      "Error geocoding (0.0, 0.0): 'Census Blocks'\n"
     ]
    },
    {
     "name": "stderr",
     "output_type": "stream",
     "text": [
      " 40%|████      | 4043/10000 [01:01<01:33, 63.87it/s]"
     ]
    },
    {
     "name": "stdout",
     "output_type": "stream",
     "text": [
      "Error geocoding (0.0, 0.0): 'Census Blocks'\n"
     ]
    },
    {
     "name": "stderr",
     "output_type": "stream",
     "text": [
      " 44%|████▍     | 4388/10000 [01:06<01:16, 73.39it/s]"
     ]
    },
    {
     "name": "stdout",
     "output_type": "stream",
     "text": [
      "Error geocoding (0.0, 0.0): 'Census Blocks'\n"
     ]
    },
    {
     "name": "stderr",
     "output_type": "stream",
     "text": [
      " 48%|████▊     | 4790/10000 [01:12<01:14, 69.99it/s]"
     ]
    },
    {
     "name": "stdout",
     "output_type": "stream",
     "text": [
      "Error geocoding (0.0, 0.0): 'Census Blocks'\n"
     ]
    },
    {
     "name": "stderr",
     "output_type": "stream",
     "text": [
      " 52%|█████▏    | 5234/10000 [01:18<01:08, 69.17it/s]"
     ]
    },
    {
     "name": "stdout",
     "output_type": "stream",
     "text": [
      "Error geocoding (0.0, 0.0): 'Census Blocks'\n"
     ]
    },
    {
     "name": "stderr",
     "output_type": "stream",
     "text": [
      " 54%|█████▍    | 5377/10000 [01:20<01:06, 69.05it/s]"
     ]
    },
    {
     "name": "stdout",
     "output_type": "stream",
     "text": [
      "Error geocoding (0.0, 0.0): 'Census Blocks'\n"
     ]
    },
    {
     "name": "stderr",
     "output_type": "stream",
     "text": [
      " 55%|█████▍    | 5475/10000 [01:21<01:05, 69.48it/s]"
     ]
    },
    {
     "name": "stdout",
     "output_type": "stream",
     "text": [
      "Error geocoding (0.0, 0.0): 'Census Blocks'\n"
     ]
    },
    {
     "name": "stderr",
     "output_type": "stream",
     "text": [
      " 64%|██████▍   | 6380/10000 [01:33<01:05, 54.91it/s]"
     ]
    },
    {
     "name": "stdout",
     "output_type": "stream",
     "text": [
      "Error geocoding (0.0, 0.0): 'Census Blocks'\n"
     ]
    },
    {
     "name": "stderr",
     "output_type": "stream",
     "text": [
      " 69%|██████▉   | 6878/10000 [01:40<00:40, 76.74it/s]"
     ]
    },
    {
     "name": "stdout",
     "output_type": "stream",
     "text": [
      "Error geocoding (0.0, 0.0): 'Census Blocks'\n"
     ]
    },
    {
     "name": "stderr",
     "output_type": "stream",
     "text": [
      " 78%|███████▊  | 7848/10000 [01:52<00:24, 89.57it/s]"
     ]
    },
    {
     "name": "stdout",
     "output_type": "stream",
     "text": [
      "Error geocoding (0.0, 0.0): 'Census Blocks'\n",
      "Error geocoding (0.0, 0.0): 'Census Blocks'\n"
     ]
    },
    {
     "name": "stderr",
     "output_type": "stream",
     "text": [
      " 80%|████████  | 8041/10000 [01:54<00:24, 80.30it/s]"
     ]
    },
    {
     "name": "stdout",
     "output_type": "stream",
     "text": [
      "Error geocoding (0.0, 0.0): 'Census Blocks'\n"
     ]
    },
    {
     "name": "stderr",
     "output_type": "stream",
     "text": [
      " 86%|████████▌ | 8555/10000 [02:01<00:19, 73.44it/s]"
     ]
    },
    {
     "name": "stdout",
     "output_type": "stream",
     "text": [
      "Error geocoding (0.0, 0.0): 'Census Blocks'\n",
      "Error geocoding (0.0, 0.0): 'Census Blocks'\n"
     ]
    },
    {
     "name": "stderr",
     "output_type": "stream",
     "text": [
      " 86%|████████▌ | 8604/10000 [02:01<00:17, 81.94it/s]"
     ]
    },
    {
     "name": "stdout",
     "output_type": "stream",
     "text": [
      "Error geocoding (0.0, 0.0): 'Census Blocks'\n"
     ]
    },
    {
     "name": "stderr",
     "output_type": "stream",
     "text": [
      " 91%|█████████▏| 9127/10000 [02:07<00:09, 92.90it/s] "
     ]
    },
    {
     "name": "stdout",
     "output_type": "stream",
     "text": [
      "Error geocoding (0.0, 0.0): 'Census Blocks'\n"
     ]
    },
    {
     "name": "stderr",
     "output_type": "stream",
     "text": [
      " 92%|█████████▏| 9161/10000 [02:08<00:10, 80.97it/s]"
     ]
    },
    {
     "name": "stdout",
     "output_type": "stream",
     "text": [
      "Error geocoding (0.0, 0.0): 'Census Blocks'\n"
     ]
    },
    {
     "name": "stderr",
     "output_type": "stream",
     "text": [
      " 92%|█████████▏| 9197/10000 [02:08<00:08, 90.26it/s]"
     ]
    },
    {
     "name": "stdout",
     "output_type": "stream",
     "text": [
      "Error geocoding (0.0, 0.0): 'Census Blocks'\n"
     ]
    },
    {
     "name": "stderr",
     "output_type": "stream",
     "text": [
      " 96%|█████████▌| 9552/10000 [02:13<00:05, 81.25it/s]"
     ]
    },
    {
     "name": "stdout",
     "output_type": "stream",
     "text": [
      "Error geocoding (0.0, 0.0): 'Census Blocks'\n"
     ]
    },
    {
     "name": "stderr",
     "output_type": "stream",
     "text": [
      " 96%|█████████▌| 9583/10000 [02:13<00:04, 86.52it/s]"
     ]
    },
    {
     "name": "stdout",
     "output_type": "stream",
     "text": [
      "Error geocoding (0.0, 0.0): 'Census Blocks'\n"
     ]
    },
    {
     "name": "stderr",
     "output_type": "stream",
     "text": [
      " 99%|█████████▉| 9940/10000 [02:17<00:00, 101.80it/s]"
     ]
    },
    {
     "name": "stdout",
     "output_type": "stream",
     "text": [
      "Error geocoding (0.0, 0.0): 'Census Blocks'\n"
     ]
    },
    {
     "name": "stderr",
     "output_type": "stream",
     "text": [
      "100%|██████████| 10000/10000 [02:18<00:00, 72.26it/s]\n"
     ]
    },
    {
     "data": {
      "text/plain": [
       "9970"
      ]
     },
     "execution_count": 26,
     "metadata": {},
     "output_type": "execute_result"
    }
   ],
   "source": [
    "# Code adapted from:\n",
    "# https://gis.stackexchange.com/questions/363830/applying-the-censusgeocode-package-to-an-entire-dataframe-of-geocoded-data\n",
    "# Defines a geocode function that accepts lat/long and spits out geographies\n",
    "# The code then runs that funciton in parllel (for speed).\n",
    "\n",
    "import pandas as pd\n",
    "import censusgeocode as cg\n",
    "from concurrent.futures import ThreadPoolExecutor\n",
    "from tqdm.notebook import tqdm\n",
    "import glob\n",
    "import json\n",
    "import requests\n",
    "import pandas as pd\n",
    "from pprint import pprint\n",
    "from tqdm import tqdm\n",
    "\n",
    "\n",
    "import requests_cache\n",
    "cache = requests_cache.CachedSession(\"geocode_cache\", backend=\"filesystem\")\n",
    "\n",
    "def geocode(lat, lng):\n",
    "    try:\n",
    "        url = \"https://geocoding.geo.census.gov/geocoder/geographies/coordinates\"\n",
    "        params = {\n",
    "            \"x\": lng,\n",
    "            \"y\": lat,\n",
    "            \"benchmark\": \"Public_AR_Census2020\",\n",
    "            \"vintage\": \"Census2020_Census2020\",\n",
    "            \"format\": \"json\"\n",
    "        }\n",
    "        response = cache.get(url, params=params)\n",
    "        response.raise_for_status()\n",
    "        data = response.json()\n",
    "        census = data['result']['geographies']['Census Blocks'][0]\n",
    "        return census\n",
    "    except Exception as e:\n",
    "        print(f\"Error geocoding ({lat}, {lng}): {e}\")\n",
    "        return None\n",
    "\n",
    "def bulk_geocode(latitudes, longitudes):\n",
    "    \"\"\"\n",
    "    Geocode a list of latitudes and longitudes in parallel (for speed).\n",
    "    \"\"\"\n",
    "\n",
    "    with ThreadPoolExecutor() as tpe:\n",
    "        latitudes = df['LATITUDE']\n",
    "        longitudes = df['LONGITUDE']\n",
    "        mapped_results = tpe.map(geocode, latitudes, longitudes)\n",
    "        data = list(tqdm(mapped_results, total=len(df)))\n",
    "\n",
    "    #return pd.DataFrame(data)\n",
    "        return pd.DataFrame([x for x in data if x])\n",
    "\n",
    "census_geos_df = bulk_geocode(df['LATITUDE'], df['LONGITUDE']) \n",
    "census_geos_df.head()\n",
    "len(census_geos_df)\n"
   ]
  },
  {
   "cell_type": "code",
   "execution_count": 27,
   "metadata": {},
   "outputs": [
    {
     "data": {
      "text/html": [
       "<div>\n",
       "<style scoped>\n",
       "    .dataframe tbody tr th:only-of-type {\n",
       "        vertical-align: middle;\n",
       "    }\n",
       "\n",
       "    .dataframe tbody tr th {\n",
       "        vertical-align: top;\n",
       "    }\n",
       "\n",
       "    .dataframe thead th {\n",
       "        text-align: right;\n",
       "    }\n",
       "</style>\n",
       "<table border=\"1\" class=\"dataframe\">\n",
       "  <thead>\n",
       "    <tr style=\"text-align: right;\">\n",
       "      <th></th>\n",
       "      <th>SUFFIX</th>\n",
       "      <th>POP100</th>\n",
       "      <th>GEOID</th>\n",
       "      <th>CENTLAT</th>\n",
       "      <th>BLOCK</th>\n",
       "      <th>AREAWATER</th>\n",
       "      <th>STATE</th>\n",
       "      <th>BASENAME</th>\n",
       "      <th>OID</th>\n",
       "      <th>LSADC</th>\n",
       "      <th>...</th>\n",
       "      <th>TRACT</th>\n",
       "      <th>CENTLON</th>\n",
       "      <th>BLKGRP</th>\n",
       "      <th>AREALAND</th>\n",
       "      <th>HU100</th>\n",
       "      <th>INTPTLON</th>\n",
       "      <th>MTFCC</th>\n",
       "      <th>LWBLKTYP</th>\n",
       "      <th>UR</th>\n",
       "      <th>COUNTY</th>\n",
       "    </tr>\n",
       "  </thead>\n",
       "  <tbody>\n",
       "    <tr>\n",
       "      <th>0</th>\n",
       "      <td></td>\n",
       "      <td>105</td>\n",
       "      <td>360610033002007</td>\n",
       "      <td>+40.7207072</td>\n",
       "      <td>2007</td>\n",
       "      <td>0</td>\n",
       "      <td>36</td>\n",
       "      <td>2007</td>\n",
       "      <td>210701008621492</td>\n",
       "      <td>BK</td>\n",
       "      <td>...</td>\n",
       "      <td>003300</td>\n",
       "      <td>-074.0055917</td>\n",
       "      <td>2</td>\n",
       "      <td>4221</td>\n",
       "      <td>52</td>\n",
       "      <td>-074.0055917</td>\n",
       "      <td>G5040</td>\n",
       "      <td>L</td>\n",
       "      <td>U</td>\n",
       "      <td>061</td>\n",
       "    </tr>\n",
       "    <tr>\n",
       "      <th>1</th>\n",
       "      <td></td>\n",
       "      <td>39</td>\n",
       "      <td>360810769021002</td>\n",
       "      <td>+40.7152988</td>\n",
       "      <td>1002</td>\n",
       "      <td>0</td>\n",
       "      <td>36</td>\n",
       "      <td>1002</td>\n",
       "      <td>210701006114638</td>\n",
       "      <td>BK</td>\n",
       "      <td>...</td>\n",
       "      <td>076902</td>\n",
       "      <td>-073.8333178</td>\n",
       "      <td>1</td>\n",
       "      <td>16299</td>\n",
       "      <td>11</td>\n",
       "      <td>-073.8333178</td>\n",
       "      <td>G5040</td>\n",
       "      <td>L</td>\n",
       "      <td>U</td>\n",
       "      <td>081</td>\n",
       "    </tr>\n",
       "    <tr>\n",
       "      <th>2</th>\n",
       "      <td></td>\n",
       "      <td>266</td>\n",
       "      <td>360050345002000</td>\n",
       "      <td>+40.9051707</td>\n",
       "      <td>2000</td>\n",
       "      <td>0</td>\n",
       "      <td>36</td>\n",
       "      <td>2000</td>\n",
       "      <td>210701006026415</td>\n",
       "      <td>BK</td>\n",
       "      <td>...</td>\n",
       "      <td>034500</td>\n",
       "      <td>-073.8989332</td>\n",
       "      <td>2</td>\n",
       "      <td>22929</td>\n",
       "      <td>127</td>\n",
       "      <td>-073.8989332</td>\n",
       "      <td>G5040</td>\n",
       "      <td>L</td>\n",
       "      <td>U</td>\n",
       "      <td>005</td>\n",
       "    </tr>\n",
       "    <tr>\n",
       "      <th>3</th>\n",
       "      <td></td>\n",
       "      <td>213</td>\n",
       "      <td>360810840002005</td>\n",
       "      <td>+40.6752289</td>\n",
       "      <td>2005</td>\n",
       "      <td>0</td>\n",
       "      <td>36</td>\n",
       "      <td>2005</td>\n",
       "      <td>210701006107453</td>\n",
       "      <td>BK</td>\n",
       "      <td>...</td>\n",
       "      <td>084000</td>\n",
       "      <td>-073.8199189</td>\n",
       "      <td>2</td>\n",
       "      <td>18335</td>\n",
       "      <td>72</td>\n",
       "      <td>-073.8199189</td>\n",
       "      <td>G5040</td>\n",
       "      <td>L</td>\n",
       "      <td>U</td>\n",
       "      <td>081</td>\n",
       "    </tr>\n",
       "    <tr>\n",
       "      <th>4</th>\n",
       "      <td></td>\n",
       "      <td>210</td>\n",
       "      <td>360470519003007</td>\n",
       "      <td>+40.7138453</td>\n",
       "      <td>3007</td>\n",
       "      <td>0</td>\n",
       "      <td>36</td>\n",
       "      <td>3007</td>\n",
       "      <td>210701004649189</td>\n",
       "      <td>BK</td>\n",
       "      <td>...</td>\n",
       "      <td>051900</td>\n",
       "      <td>-073.9588926</td>\n",
       "      <td>3</td>\n",
       "      <td>8415</td>\n",
       "      <td>106</td>\n",
       "      <td>-073.9588926</td>\n",
       "      <td>G5040</td>\n",
       "      <td>L</td>\n",
       "      <td>U</td>\n",
       "      <td>047</td>\n",
       "    </tr>\n",
       "    <tr>\n",
       "      <th>...</th>\n",
       "      <td>...</td>\n",
       "      <td>...</td>\n",
       "      <td>...</td>\n",
       "      <td>...</td>\n",
       "      <td>...</td>\n",
       "      <td>...</td>\n",
       "      <td>...</td>\n",
       "      <td>...</td>\n",
       "      <td>...</td>\n",
       "      <td>...</td>\n",
       "      <td>...</td>\n",
       "      <td>...</td>\n",
       "      <td>...</td>\n",
       "      <td>...</td>\n",
       "      <td>...</td>\n",
       "      <td>...</td>\n",
       "      <td>...</td>\n",
       "      <td>...</td>\n",
       "      <td>...</td>\n",
       "      <td>...</td>\n",
       "      <td>...</td>\n",
       "    </tr>\n",
       "    <tr>\n",
       "      <th>9965</th>\n",
       "      <td></td>\n",
       "      <td>0</td>\n",
       "      <td>360610210005001</td>\n",
       "      <td>+40.8128572</td>\n",
       "      <td>5001</td>\n",
       "      <td>0</td>\n",
       "      <td>36</td>\n",
       "      <td>5001</td>\n",
       "      <td>210701008619778</td>\n",
       "      <td>BK</td>\n",
       "      <td>...</td>\n",
       "      <td>021000</td>\n",
       "      <td>-073.9345132</td>\n",
       "      <td>5</td>\n",
       "      <td>3770</td>\n",
       "      <td>0</td>\n",
       "      <td>-073.9345132</td>\n",
       "      <td>G5040</td>\n",
       "      <td>L</td>\n",
       "      <td>U</td>\n",
       "      <td>061</td>\n",
       "    </tr>\n",
       "    <tr>\n",
       "      <th>9966</th>\n",
       "      <td></td>\n",
       "      <td>704</td>\n",
       "      <td>360470257001003</td>\n",
       "      <td>+40.6959147</td>\n",
       "      <td>1003</td>\n",
       "      <td>0</td>\n",
       "      <td>36</td>\n",
       "      <td>1003</td>\n",
       "      <td>210701004657171</td>\n",
       "      <td>BK</td>\n",
       "      <td>...</td>\n",
       "      <td>025700</td>\n",
       "      <td>-073.9478539</td>\n",
       "      <td>1</td>\n",
       "      <td>20401</td>\n",
       "      <td>166</td>\n",
       "      <td>-073.9478539</td>\n",
       "      <td>G5040</td>\n",
       "      <td>L</td>\n",
       "      <td>U</td>\n",
       "      <td>047</td>\n",
       "    </tr>\n",
       "    <tr>\n",
       "      <th>9967</th>\n",
       "      <td></td>\n",
       "      <td>380</td>\n",
       "      <td>360471198003003</td>\n",
       "      <td>+40.6771610</td>\n",
       "      <td>3003</td>\n",
       "      <td>0</td>\n",
       "      <td>36</td>\n",
       "      <td>3003</td>\n",
       "      <td>210701004652395</td>\n",
       "      <td>BK</td>\n",
       "      <td>...</td>\n",
       "      <td>119800</td>\n",
       "      <td>-073.8919216</td>\n",
       "      <td>3</td>\n",
       "      <td>14177</td>\n",
       "      <td>131</td>\n",
       "      <td>-073.8919216</td>\n",
       "      <td>G5040</td>\n",
       "      <td>L</td>\n",
       "      <td>U</td>\n",
       "      <td>047</td>\n",
       "    </tr>\n",
       "    <tr>\n",
       "      <th>9968</th>\n",
       "      <td></td>\n",
       "      <td>473</td>\n",
       "      <td>360810149001000</td>\n",
       "      <td>+40.7618158</td>\n",
       "      <td>1000</td>\n",
       "      <td>0</td>\n",
       "      <td>36</td>\n",
       "      <td>1000</td>\n",
       "      <td>210701006114446</td>\n",
       "      <td>BK</td>\n",
       "      <td>...</td>\n",
       "      <td>014900</td>\n",
       "      <td>-073.9138956</td>\n",
       "      <td>1</td>\n",
       "      <td>23152</td>\n",
       "      <td>232</td>\n",
       "      <td>-073.9138956</td>\n",
       "      <td>G5040</td>\n",
       "      <td>L</td>\n",
       "      <td>U</td>\n",
       "      <td>081</td>\n",
       "    </tr>\n",
       "    <tr>\n",
       "      <th>9969</th>\n",
       "      <td></td>\n",
       "      <td>17</td>\n",
       "      <td>360810183004003</td>\n",
       "      <td>+40.7433129</td>\n",
       "      <td>4003</td>\n",
       "      <td>0</td>\n",
       "      <td>36</td>\n",
       "      <td>4003</td>\n",
       "      <td>210701006108716</td>\n",
       "      <td>BK</td>\n",
       "      <td>...</td>\n",
       "      <td>018300</td>\n",
       "      <td>-073.9200952</td>\n",
       "      <td>4</td>\n",
       "      <td>2837</td>\n",
       "      <td>0</td>\n",
       "      <td>-073.9200952</td>\n",
       "      <td>G5040</td>\n",
       "      <td>L</td>\n",
       "      <td>U</td>\n",
       "      <td>081</td>\n",
       "    </tr>\n",
       "  </tbody>\n",
       "</table>\n",
       "<p>9970 rows × 24 columns</p>\n",
       "</div>"
      ],
      "text/plain": [
       "     SUFFIX  POP100            GEOID      CENTLAT BLOCK  AREAWATER STATE  \\\n",
       "0               105  360610033002007  +40.7207072  2007          0    36   \n",
       "1                39  360810769021002  +40.7152988  1002          0    36   \n",
       "2               266  360050345002000  +40.9051707  2000          0    36   \n",
       "3               213  360810840002005  +40.6752289  2005          0    36   \n",
       "4               210  360470519003007  +40.7138453  3007          0    36   \n",
       "...     ...     ...              ...          ...   ...        ...   ...   \n",
       "9965              0  360610210005001  +40.8128572  5001          0    36   \n",
       "9966            704  360470257001003  +40.6959147  1003          0    36   \n",
       "9967            380  360471198003003  +40.6771610  3003          0    36   \n",
       "9968            473  360810149001000  +40.7618158  1000          0    36   \n",
       "9969             17  360810183004003  +40.7433129  4003          0    36   \n",
       "\n",
       "     BASENAME              OID LSADC  ...   TRACT       CENTLON BLKGRP  \\\n",
       "0        2007  210701008621492    BK  ...  003300  -074.0055917      2   \n",
       "1        1002  210701006114638    BK  ...  076902  -073.8333178      1   \n",
       "2        2000  210701006026415    BK  ...  034500  -073.8989332      2   \n",
       "3        2005  210701006107453    BK  ...  084000  -073.8199189      2   \n",
       "4        3007  210701004649189    BK  ...  051900  -073.9588926      3   \n",
       "...       ...              ...   ...  ...     ...           ...    ...   \n",
       "9965     5001  210701008619778    BK  ...  021000  -073.9345132      5   \n",
       "9966     1003  210701004657171    BK  ...  025700  -073.9478539      1   \n",
       "9967     3003  210701004652395    BK  ...  119800  -073.8919216      3   \n",
       "9968     1000  210701006114446    BK  ...  014900  -073.9138956      1   \n",
       "9969     4003  210701006108716    BK  ...  018300  -073.9200952      4   \n",
       "\n",
       "      AREALAND HU100      INTPTLON  MTFCC  LWBLKTYP  UR COUNTY  \n",
       "0         4221    52  -074.0055917  G5040         L   U    061  \n",
       "1        16299    11  -073.8333178  G5040         L   U    081  \n",
       "2        22929   127  -073.8989332  G5040         L   U    005  \n",
       "3        18335    72  -073.8199189  G5040         L   U    081  \n",
       "4         8415   106  -073.9588926  G5040         L   U    047  \n",
       "...        ...   ...           ...    ...       ...  ..    ...  \n",
       "9965      3770     0  -073.9345132  G5040         L   U    061  \n",
       "9966     20401   166  -073.9478539  G5040         L   U    047  \n",
       "9967     14177   131  -073.8919216  G5040         L   U    047  \n",
       "9968     23152   232  -073.9138956  G5040         L   U    081  \n",
       "9969      2837     0  -073.9200952  G5040         L   U    081  \n",
       "\n",
       "[9970 rows x 24 columns]"
      ]
     },
     "execution_count": 27,
     "metadata": {},
     "output_type": "execute_result"
    }
   ],
   "source": [
    "census_geos_df"
   ]
  },
  {
   "cell_type": "code",
   "execution_count": null,
   "metadata": {},
   "outputs": [],
   "source": []
  },
  {
   "cell_type": "markdown",
   "metadata": {},
   "source": [
    "## 👉 Output Data\n",
    "\n",
    "Output your dataframe containing your data and the Census connector codes (like tract, block, etc...)."
   ]
  },
  {
   "cell_type": "code",
   "execution_count": 16,
   "metadata": {},
   "outputs": [
    {
     "data": {
      "text/html": [
       "<div>\n",
       "<style scoped>\n",
       "    .dataframe tbody tr th:only-of-type {\n",
       "        vertical-align: middle;\n",
       "    }\n",
       "\n",
       "    .dataframe tbody tr th {\n",
       "        vertical-align: top;\n",
       "    }\n",
       "\n",
       "    .dataframe thead th {\n",
       "        text-align: right;\n",
       "    }\n",
       "</style>\n",
       "<table border=\"1\" class=\"dataframe\">\n",
       "  <thead>\n",
       "    <tr style=\"text-align: right;\">\n",
       "      <th></th>\n",
       "      <th>GEOID</th>\n",
       "      <th>STATE</th>\n",
       "      <th>COUNTY</th>\n",
       "      <th>TRACT</th>\n",
       "      <th>BLOCK</th>\n",
       "    </tr>\n",
       "  </thead>\n",
       "  <tbody>\n",
       "    <tr>\n",
       "      <th>0</th>\n",
       "      <td>360810769021002</td>\n",
       "      <td>36</td>\n",
       "      <td>081</td>\n",
       "      <td>076902</td>\n",
       "      <td>1002</td>\n",
       "    </tr>\n",
       "    <tr>\n",
       "      <th>1</th>\n",
       "      <td>360470458002000</td>\n",
       "      <td>36</td>\n",
       "      <td>047</td>\n",
       "      <td>045800</td>\n",
       "      <td>2000</td>\n",
       "    </tr>\n",
       "    <tr>\n",
       "      <th>2</th>\n",
       "      <td>360810125002000</td>\n",
       "      <td>36</td>\n",
       "      <td>081</td>\n",
       "      <td>012500</td>\n",
       "      <td>2000</td>\n",
       "    </tr>\n",
       "    <tr>\n",
       "      <th>3</th>\n",
       "      <td>360050199004002</td>\n",
       "      <td>36</td>\n",
       "      <td>005</td>\n",
       "      <td>019900</td>\n",
       "      <td>4002</td>\n",
       "    </tr>\n",
       "    <tr>\n",
       "      <th>4</th>\n",
       "      <td>360850170051019</td>\n",
       "      <td>36</td>\n",
       "      <td>085</td>\n",
       "      <td>017005</td>\n",
       "      <td>1019</td>\n",
       "    </tr>\n",
       "    <tr>\n",
       "      <th>...</th>\n",
       "      <td>...</td>\n",
       "      <td>...</td>\n",
       "      <td>...</td>\n",
       "      <td>...</td>\n",
       "      <td>...</td>\n",
       "    </tr>\n",
       "    <tr>\n",
       "      <th>9956</th>\n",
       "      <td>360470085001000</td>\n",
       "      <td>36</td>\n",
       "      <td>047</td>\n",
       "      <td>008500</td>\n",
       "      <td>1000</td>\n",
       "    </tr>\n",
       "    <tr>\n",
       "      <th>9957</th>\n",
       "      <td>360470119011009</td>\n",
       "      <td>36</td>\n",
       "      <td>047</td>\n",
       "      <td>011901</td>\n",
       "      <td>1009</td>\n",
       "    </tr>\n",
       "    <tr>\n",
       "      <th>9958</th>\n",
       "      <td>360050425005000</td>\n",
       "      <td>36</td>\n",
       "      <td>005</td>\n",
       "      <td>042500</td>\n",
       "      <td>5000</td>\n",
       "    </tr>\n",
       "    <tr>\n",
       "      <th>9959</th>\n",
       "      <td>360610303001000</td>\n",
       "      <td>36</td>\n",
       "      <td>061</td>\n",
       "      <td>030300</td>\n",
       "      <td>1000</td>\n",
       "    </tr>\n",
       "    <tr>\n",
       "      <th>9960</th>\n",
       "      <td>360050141002000</td>\n",
       "      <td>36</td>\n",
       "      <td>005</td>\n",
       "      <td>014100</td>\n",
       "      <td>2000</td>\n",
       "    </tr>\n",
       "  </tbody>\n",
       "</table>\n",
       "<p>9961 rows × 5 columns</p>\n",
       "</div>"
      ],
      "text/plain": [
       "                GEOID STATE COUNTY   TRACT BLOCK\n",
       "0     360810769021002    36    081  076902  1002\n",
       "1     360470458002000    36    047  045800  2000\n",
       "2     360810125002000    36    081  012500  2000\n",
       "3     360050199004002    36    005  019900  4002\n",
       "4     360850170051019    36    085  017005  1019\n",
       "...               ...   ...    ...     ...   ...\n",
       "9956  360470085001000    36    047  008500  1000\n",
       "9957  360470119011009    36    047  011901  1009\n",
       "9958  360050425005000    36    005  042500  5000\n",
       "9959  360610303001000    36    061  030300  1000\n",
       "9960  360050141002000    36    005  014100  2000\n",
       "\n",
       "[9961 rows x 5 columns]"
      ]
     },
     "execution_count": 16,
     "metadata": {},
     "output_type": "execute_result"
    }
   ],
   "source": [
    "to_keep = ['GEOID', 'STATE', 'COUNTY', 'TRACT', 'BLOCK']\n",
    "census_geos_df = census_geos_df[to_keep]\n",
    "census_geos_df"
   ]
  },
  {
   "cell_type": "code",
   "execution_count": 17,
   "metadata": {},
   "outputs": [
    {
     "data": {
      "text/html": [
       "<div>\n",
       "<style scoped>\n",
       "    .dataframe tbody tr th:only-of-type {\n",
       "        vertical-align: middle;\n",
       "    }\n",
       "\n",
       "    .dataframe tbody tr th {\n",
       "        vertical-align: top;\n",
       "    }\n",
       "\n",
       "    .dataframe thead th {\n",
       "        text-align: right;\n",
       "    }\n",
       "</style>\n",
       "<table border=\"1\" class=\"dataframe\">\n",
       "  <thead>\n",
       "    <tr style=\"text-align: right;\">\n",
       "      <th></th>\n",
       "      <th>CRASH DATE</th>\n",
       "      <th>CRASH TIME</th>\n",
       "      <th>BOROUGH</th>\n",
       "      <th>ZIP CODE</th>\n",
       "      <th>LATITUDE</th>\n",
       "      <th>LONGITUDE</th>\n",
       "      <th>LOCATION</th>\n",
       "      <th>ON STREET NAME</th>\n",
       "      <th>CROSS STREET NAME</th>\n",
       "      <th>OFF STREET NAME</th>\n",
       "      <th>...</th>\n",
       "      <th>VEHICLE TYPE CODE 1</th>\n",
       "      <th>VEHICLE TYPE CODE 2</th>\n",
       "      <th>VEHICLE TYPE CODE 3</th>\n",
       "      <th>VEHICLE TYPE CODE 4</th>\n",
       "      <th>VEHICLE TYPE CODE 5</th>\n",
       "      <th>GEOID</th>\n",
       "      <th>STATE</th>\n",
       "      <th>COUNTY</th>\n",
       "      <th>TRACT</th>\n",
       "      <th>BLOCK</th>\n",
       "    </tr>\n",
       "  </thead>\n",
       "  <tbody>\n",
       "    <tr>\n",
       "      <th>0</th>\n",
       "      <td>2023-08-08</td>\n",
       "      <td>17:11:00</td>\n",
       "      <td>QUEENS</td>\n",
       "      <td>11375.0</td>\n",
       "      <td>40.715120</td>\n",
       "      <td>-73.832240</td>\n",
       "      <td>(40.71512, -73.83224)</td>\n",
       "      <td>QUEENS BOULEVARD</td>\n",
       "      <td>78 AVENUE</td>\n",
       "      <td>NaN</td>\n",
       "      <td>...</td>\n",
       "      <td>Sedan</td>\n",
       "      <td>Station Wagon/Sport Utility Vehicle</td>\n",
       "      <td>NaN</td>\n",
       "      <td>NaN</td>\n",
       "      <td>NaN</td>\n",
       "      <td>360810769021002</td>\n",
       "      <td>36</td>\n",
       "      <td>081</td>\n",
       "      <td>076902</td>\n",
       "      <td>1002</td>\n",
       "    </tr>\n",
       "    <tr>\n",
       "      <th>1</th>\n",
       "      <td>2023-10-26</td>\n",
       "      <td>18:00:00</td>\n",
       "      <td>NaN</td>\n",
       "      <td>NaN</td>\n",
       "      <td>40.624554</td>\n",
       "      <td>-73.967100</td>\n",
       "      <td>(40.624554, -73.9671)</td>\n",
       "      <td>EAST 9 STREET</td>\n",
       "      <td>NaN</td>\n",
       "      <td>NaN</td>\n",
       "      <td>...</td>\n",
       "      <td>Sedan</td>\n",
       "      <td>Bus</td>\n",
       "      <td>NaN</td>\n",
       "      <td>NaN</td>\n",
       "      <td>NaN</td>\n",
       "      <td>360470458002000</td>\n",
       "      <td>36</td>\n",
       "      <td>047</td>\n",
       "      <td>045800</td>\n",
       "      <td>2000</td>\n",
       "    </tr>\n",
       "    <tr>\n",
       "      <th>2</th>\n",
       "      <td>2023-07-18</td>\n",
       "      <td>16:07:00</td>\n",
       "      <td>QUEENS</td>\n",
       "      <td>11102.0</td>\n",
       "      <td>40.772083</td>\n",
       "      <td>-73.917520</td>\n",
       "      <td>(40.772083, -73.91752)</td>\n",
       "      <td>NaN</td>\n",
       "      <td>NaN</td>\n",
       "      <td>24-46     29 STREET</td>\n",
       "      <td>...</td>\n",
       "      <td>Sedan</td>\n",
       "      <td>Station Wagon/Sport Utility Vehicle</td>\n",
       "      <td>NaN</td>\n",
       "      <td>NaN</td>\n",
       "      <td>NaN</td>\n",
       "      <td>360810125002000</td>\n",
       "      <td>36</td>\n",
       "      <td>081</td>\n",
       "      <td>012500</td>\n",
       "      <td>2000</td>\n",
       "    </tr>\n",
       "    <tr>\n",
       "      <th>3</th>\n",
       "      <td>2023-05-07</td>\n",
       "      <td>02:30:00</td>\n",
       "      <td>BRONX</td>\n",
       "      <td>10452.0</td>\n",
       "      <td>40.836320</td>\n",
       "      <td>-73.927480</td>\n",
       "      <td>(40.83632, -73.92748)</td>\n",
       "      <td>NaN</td>\n",
       "      <td>NaN</td>\n",
       "      <td>1133      OGDEN AVENUE</td>\n",
       "      <td>...</td>\n",
       "      <td>Sedan</td>\n",
       "      <td>Sedan</td>\n",
       "      <td>Sedan</td>\n",
       "      <td>NaN</td>\n",
       "      <td>NaN</td>\n",
       "      <td>360050199004002</td>\n",
       "      <td>36</td>\n",
       "      <td>005</td>\n",
       "      <td>019900</td>\n",
       "      <td>4002</td>\n",
       "    </tr>\n",
       "    <tr>\n",
       "      <th>4</th>\n",
       "      <td>2023-01-22</td>\n",
       "      <td>03:47:00</td>\n",
       "      <td>NaN</td>\n",
       "      <td>NaN</td>\n",
       "      <td>40.540500</td>\n",
       "      <td>-74.177315</td>\n",
       "      <td>(40.5405, -74.177315)</td>\n",
       "      <td>SNEDEN AVENUE</td>\n",
       "      <td>NaN</td>\n",
       "      <td>NaN</td>\n",
       "      <td>...</td>\n",
       "      <td>Sedan</td>\n",
       "      <td>Pick-up Truck</td>\n",
       "      <td>NaN</td>\n",
       "      <td>NaN</td>\n",
       "      <td>NaN</td>\n",
       "      <td>360850170051019</td>\n",
       "      <td>36</td>\n",
       "      <td>085</td>\n",
       "      <td>017005</td>\n",
       "      <td>1019</td>\n",
       "    </tr>\n",
       "  </tbody>\n",
       "</table>\n",
       "<p>5 rows × 34 columns</p>\n",
       "</div>"
      ],
      "text/plain": [
       "   CRASH DATE CRASH TIME BOROUGH  ZIP CODE   LATITUDE  LONGITUDE  \\\n",
       "0  2023-08-08   17:11:00  QUEENS   11375.0  40.715120 -73.832240   \n",
       "1  2023-10-26   18:00:00     NaN       NaN  40.624554 -73.967100   \n",
       "2  2023-07-18   16:07:00  QUEENS   11102.0  40.772083 -73.917520   \n",
       "3  2023-05-07   02:30:00   BRONX   10452.0  40.836320 -73.927480   \n",
       "4  2023-01-22   03:47:00     NaN       NaN  40.540500 -74.177315   \n",
       "\n",
       "                 LOCATION    ON STREET NAME CROSS STREET NAME  \\\n",
       "0   (40.71512, -73.83224)  QUEENS BOULEVARD         78 AVENUE   \n",
       "1   (40.624554, -73.9671)     EAST 9 STREET               NaN   \n",
       "2  (40.772083, -73.91752)               NaN               NaN   \n",
       "3   (40.83632, -73.92748)               NaN               NaN   \n",
       "4   (40.5405, -74.177315)     SNEDEN AVENUE               NaN   \n",
       "\n",
       "          OFF STREET NAME  ...  VEHICLE TYPE CODE 1  \\\n",
       "0                     NaN  ...                Sedan   \n",
       "1                     NaN  ...                Sedan   \n",
       "2     24-46     29 STREET  ...                Sedan   \n",
       "3  1133      OGDEN AVENUE  ...                Sedan   \n",
       "4                     NaN  ...                Sedan   \n",
       "\n",
       "                   VEHICLE TYPE CODE 2  VEHICLE TYPE CODE 3  \\\n",
       "0  Station Wagon/Sport Utility Vehicle                  NaN   \n",
       "1                                  Bus                  NaN   \n",
       "2  Station Wagon/Sport Utility Vehicle                  NaN   \n",
       "3                                Sedan                Sedan   \n",
       "4                        Pick-up Truck                  NaN   \n",
       "\n",
       "   VEHICLE TYPE CODE 4  VEHICLE TYPE CODE 5            GEOID  STATE  COUNTY  \\\n",
       "0                  NaN                  NaN  360810769021002     36     081   \n",
       "1                  NaN                  NaN  360470458002000     36     047   \n",
       "2                  NaN                  NaN  360810125002000     36     081   \n",
       "3                  NaN                  NaN  360050199004002     36     005   \n",
       "4                  NaN                  NaN  360850170051019     36     085   \n",
       "\n",
       "    TRACT BLOCK  \n",
       "0  076902  1002  \n",
       "1  045800  2000  \n",
       "2  012500  2000  \n",
       "3  019900  4002  \n",
       "4  017005  1019  \n",
       "\n",
       "[5 rows x 34 columns]"
      ]
     },
     "execution_count": 17,
     "metadata": {},
     "output_type": "execute_result"
    }
   ],
   "source": [
    "df_with_geos = pd.concat(\n",
    "    [ \n",
    "        df.reset_index(drop=True),\n",
    "        census_geos_df.reset_index(drop=True)\n",
    "    ], \n",
    "    axis=1)\n",
    "\n",
    "df_with_geos.head()"
   ]
  },
  {
   "cell_type": "code",
   "execution_count": 18,
   "metadata": {},
   "outputs": [],
   "source": [
    "# Saving the DataFrame as a CSV file\n",
    "df_with_geos.to_csv('geocoded_col_10k.csv', index=False)\n"
   ]
  },
  {
   "cell_type": "code",
   "execution_count": null,
   "metadata": {},
   "outputs": [],
   "source": []
  },
  {
   "cell_type": "code",
   "execution_count": null,
   "metadata": {},
   "outputs": [],
   "source": []
  }
 ],
 "metadata": {
  "kernelspec": {
   "display_name": "Python 3 (ipykernel)",
   "language": "python",
   "name": "python3"
  },
  "language_info": {
   "codemirror_mode": {
    "name": "ipython",
    "version": 3
   },
   "file_extension": ".py",
   "mimetype": "text/x-python",
   "name": "python",
   "nbconvert_exporter": "python",
   "pygments_lexer": "ipython3",
   "version": "3.11.6"
  }
 },
 "nbformat": 4,
 "nbformat_minor": 4
}
