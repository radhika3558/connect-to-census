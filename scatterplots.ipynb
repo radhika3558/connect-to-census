{
 "cells": [
  {
   "attachments": {},
   "cell_type": "markdown",
   "metadata": {},
   "source": [
    "# 2-D Exploratory Data Analysis\n",
    "\n",
    "In this notebook we will pick ONE variable you're interested in understanding from your non-census data and plot it against various census variables in scatterplots or dotplots."
   ]
  },
  {
   "attachments": {},
   "cell_type": "markdown",
   "metadata": {},
   "source": [
    "### Standard Python and R imports"
   ]
  },
  {
   "cell_type": "code",
   "execution_count": 3,
   "metadata": {},
   "outputs": [],
   "source": [
    "%load_ext rpy2.ipython\n",
    "%load_ext autoreload\n",
    "%autoreload 2\n",
    "\n",
    "%matplotlib inline  \n",
    "from matplotlib import rcParams\n",
    "rcParams['figure.figsize'] = (16, 100)\n",
    "\n",
    "import warnings\n",
    "from rpy2.rinterface import RRuntimeWarning\n",
    "warnings.filterwarnings(\"ignore\") # Ignore all warnings\n",
    "# warnings.filterwarnings(\"ignore\", category=RRuntimeWarning) # Show some warnings\n",
    "\n",
    "import pandas as pd\n",
    "import numpy as np\n",
    "import matplotlib.pyplot as plt\n",
    "from IPython.display import display, HTML"
   ]
  },
  {
   "cell_type": "code",
   "execution_count": 4,
   "metadata": {},
   "outputs": [
    {
     "data": {
      "application/javascript": "// Disable auto-scrolling\nIPython.OutputArea.prototype._should_scroll = function(lines) {\n    return false;\n}\n",
      "text/plain": [
       "<IPython.core.display.Javascript object>"
      ]
     },
     "metadata": {},
     "output_type": "display_data"
    }
   ],
   "source": [
    "%%javascript\n",
    "// Disable auto-scrolling\n",
    "IPython.OutputArea.prototype._should_scroll = function(lines) {\n",
    "    return false;\n",
    "}"
   ]
  },
  {
   "cell_type": "code",
   "execution_count": 5,
   "metadata": {},
   "outputs": [
    {
     "name": "stdout",
     "output_type": "stream",
     "text": [
      "── Attaching core tidyverse packages ──────────────────────── tidyverse 2.0.0 ──\n",
      "✔ dplyr     1.1.4     ✔ readr     2.1.5\n",
      "✔ forcats   1.0.0     ✔ stringr   1.5.1\n",
      "✔ ggplot2   3.4.4     ✔ tibble    3.2.1\n",
      "✔ lubridate 1.9.3     ✔ tidyr     1.3.0\n",
      "✔ purrr     1.0.2     \n",
      "── Conflicts ────────────────────────────────────────── tidyverse_conflicts() ──\n",
      "✖ dplyr::filter() masks stats::filter()\n",
      "✖ dplyr::lag()    masks stats::lag()\n",
      "ℹ Use the conflicted package (<http://conflicted.r-lib.org/>) to force all conflicts to become errors\n"
     ]
    },
    {
     "data": {
      "text/plain": [
       "Loading required package: tidyverse\n"
      ]
     },
     "metadata": {},
     "output_type": "display_data"
    }
   ],
   "source": [
    "%%R\n",
    "\n",
    "# My commonly used R imports\n",
    "\n",
    "require('tidyverse')"
   ]
  },
  {
   "attachments": {},
   "cell_type": "markdown",
   "metadata": {},
   "source": [
    "## Load the data"
   ]
  },
  {
   "cell_type": "code",
   "execution_count": 6,
   "metadata": {},
   "outputs": [
    {
     "name": "stdout",
     "output_type": "stream",
     "text": [
      "spc_tbl_ [58,791 × 42] (S3: spec_tbl_df/tbl_df/tbl/data.frame)\n",
      " $ GEOID                        : num [1:58791] 3.6e+10 3.6e+10 3.6e+10 3.6e+10 3.6e+10 ...\n",
      " $ NAME                         : chr [1:58791] \"Census Tract 1, Bronx County, New York\" \"Census Tract 1, Bronx County, New York\" \"Census Tract 1, Bronx County, New York\" \"Census Tract 1, Bronx County, New York\" ...\n",
      " $ moe                          : num [1:58791] 702 18 77 25 NA 563 380 150 234 270 ...\n",
      " $ population                   : num [1:58791] 6661 NA NA NA NA ...\n",
      " $ means_transit_car            : num [1:58791] NA 0 NA NA NA NA 779 NA NA NA ...\n",
      " $ means_transit_bus            : num [1:58791] NA 0 NA NA NA NA NA 235 NA NA ...\n",
      " $ kids                         : num [1:58791] NA NA 98 NA NA ...\n",
      " $ school_kids                  : num [1:58791] NA NA NA 27 NA NA NA NA NA 1060 ...\n",
      " $ med_inc                      : num [1:58791] NA NA NA NA NA NA NA NA NA NA ...\n",
      " $ CRASH.DATE                   : Date[1:58791], format: NA NA ...\n",
      " $ CRASH.TIME                   : 'hms' num [1:58791] NA NA NA NA ...\n",
      "  ..- attr(*, \"units\")= chr \"secs\"\n",
      " $ BOROUGH                      : chr [1:58791] NA NA NA NA ...\n",
      " $ ZIP.CODE                     : num [1:58791] NA NA NA NA NA NA NA NA NA NA ...\n",
      " $ LATITUDE                     : num [1:58791] NA NA NA NA NA NA NA NA NA NA ...\n",
      " $ LONGITUDE                    : num [1:58791] NA NA NA NA NA NA NA NA NA NA ...\n",
      " $ LOCATION                     : chr [1:58791] NA NA NA NA ...\n",
      " $ ON.STREET.NAME               : chr [1:58791] NA NA NA NA ...\n",
      " $ CROSS.STREET.NAME            : chr [1:58791] NA NA NA NA ...\n",
      " $ OFF.STREET.NAME              : chr [1:58791] NA NA NA NA ...\n",
      " $ NUMBER.OF.PERSONS.INJURED    : num [1:58791] NA NA NA NA NA NA NA NA NA NA ...\n",
      " $ NUMBER.OF.PERSONS.KILLED     : num [1:58791] NA NA NA NA NA NA NA NA NA NA ...\n",
      " $ NUMBER.OF.PEDESTRIANS.INJURED: num [1:58791] NA NA NA NA NA NA NA NA NA NA ...\n",
      " $ NUMBER.OF.PEDESTRIANS.KILLED : num [1:58791] NA NA NA NA NA NA NA NA NA NA ...\n",
      " $ NUMBER.OF.CYCLIST.INJURED    : num [1:58791] NA NA NA NA NA NA NA NA NA NA ...\n",
      " $ NUMBER.OF.CYCLIST.KILLED     : num [1:58791] NA NA NA NA NA NA NA NA NA NA ...\n",
      " $ NUMBER.OF.MOTORIST.INJURED   : num [1:58791] NA NA NA NA NA NA NA NA NA NA ...\n",
      " $ NUMBER.OF.MOTORIST.KILLED    : num [1:58791] NA NA NA NA NA NA NA NA NA NA ...\n",
      " $ CONTRIBUTING.FACTOR.VEHICLE.1: chr [1:58791] NA NA NA NA ...\n",
      " $ CONTRIBUTING.FACTOR.VEHICLE.2: chr [1:58791] NA NA NA NA ...\n",
      " $ CONTRIBUTING.FACTOR.VEHICLE.3: chr [1:58791] NA NA NA NA ...\n",
      " $ CONTRIBUTING.FACTOR.VEHICLE.4: chr [1:58791] NA NA NA NA ...\n",
      " $ CONTRIBUTING.FACTOR.VEHICLE.5: chr [1:58791] NA NA NA NA ...\n",
      " $ COLLISION_ID                 : num [1:58791] NA NA NA NA NA NA NA NA NA NA ...\n",
      " $ VEHICLE.TYPE.CODE.1          : chr [1:58791] NA NA NA NA ...\n",
      " $ VEHICLE.TYPE.CODE.2          : chr [1:58791] NA NA NA NA ...\n",
      " $ VEHICLE.TYPE.CODE.3          : chr [1:58791] NA NA NA NA ...\n",
      " $ VEHICLE.TYPE.CODE.4          : chr [1:58791] NA NA NA NA ...\n",
      " $ VEHICLE.TYPE.CODE.5          : chr [1:58791] NA NA NA NA ...\n",
      " $ STATE                        : num [1:58791] NA NA NA NA NA NA NA NA NA NA ...\n",
      " $ COUNTY                       : num [1:58791] NA NA NA NA NA NA NA NA NA NA ...\n",
      " $ TRACT                        : num [1:58791] NA NA NA NA NA NA NA NA NA NA ...\n",
      " $ BLOCK                        : num [1:58791] NA NA NA NA NA NA NA NA NA NA ...\n",
      " - attr(*, \"spec\")=\n",
      "  .. cols(\n",
      "  ..   GEOID = col_double(),\n",
      "  ..   NAME = col_character(),\n",
      "  ..   moe = col_double(),\n",
      "  ..   population = col_double(),\n",
      "  ..   means_transit_car = col_double(),\n",
      "  ..   means_transit_bus = col_double(),\n",
      "  ..   kids = col_double(),\n",
      "  ..   school_kids = col_double(),\n",
      "  ..   med_inc = col_double(),\n",
      "  ..   CRASH.DATE = col_date(format = \"\"),\n",
      "  ..   CRASH.TIME = col_time(format = \"\"),\n",
      "  ..   BOROUGH = col_character(),\n",
      "  ..   ZIP.CODE = col_double(),\n",
      "  ..   LATITUDE = col_double(),\n",
      "  ..   LONGITUDE = col_double(),\n",
      "  ..   LOCATION = col_character(),\n",
      "  ..   ON.STREET.NAME = col_character(),\n",
      "  ..   CROSS.STREET.NAME = col_character(),\n",
      "  ..   OFF.STREET.NAME = col_character(),\n",
      "  ..   NUMBER.OF.PERSONS.INJURED = col_double(),\n",
      "  ..   NUMBER.OF.PERSONS.KILLED = col_double(),\n",
      "  ..   NUMBER.OF.PEDESTRIANS.INJURED = col_double(),\n",
      "  ..   NUMBER.OF.PEDESTRIANS.KILLED = col_double(),\n",
      "  ..   NUMBER.OF.CYCLIST.INJURED = col_double(),\n",
      "  ..   NUMBER.OF.CYCLIST.KILLED = col_double(),\n",
      "  ..   NUMBER.OF.MOTORIST.INJURED = col_double(),\n",
      "  ..   NUMBER.OF.MOTORIST.KILLED = col_double(),\n",
      "  ..   CONTRIBUTING.FACTOR.VEHICLE.1 = col_character(),\n",
      "  ..   CONTRIBUTING.FACTOR.VEHICLE.2 = col_character(),\n",
      "  ..   CONTRIBUTING.FACTOR.VEHICLE.3 = col_character(),\n",
      "  ..   CONTRIBUTING.FACTOR.VEHICLE.4 = col_character(),\n",
      "  ..   CONTRIBUTING.FACTOR.VEHICLE.5 = col_character(),\n",
      "  ..   COLLISION_ID = col_double(),\n",
      "  ..   VEHICLE.TYPE.CODE.1 = col_character(),\n",
      "  ..   VEHICLE.TYPE.CODE.2 = col_character(),\n",
      "  ..   VEHICLE.TYPE.CODE.3 = col_character(),\n",
      "  ..   VEHICLE.TYPE.CODE.4 = col_character(),\n",
      "  ..   VEHICLE.TYPE.CODE.5 = col_character(),\n",
      "  ..   STATE = col_double(),\n",
      "  ..   COUNTY = col_double(),\n",
      "  ..   TRACT = col_double(),\n",
      "  ..   BLOCK = col_double()\n",
      "  .. )\n",
      " - attr(*, \"problems\")=<externalptr> \n"
     ]
    }
   ],
   "source": [
    "%%R\n",
    " \n",
    "# Import data with R\n",
    "df <- read_csv('merged_data.csv', show_col_types = FALSE)\n",
    "str(df)"
   ]
  },
  {
   "attachments": {},
   "cell_type": "markdown",
   "metadata": {},
   "source": [
    "# Exploratory data analysis\n",
    "\n"
   ]
  },
  {
   "attachments": {},
   "cell_type": "markdown",
   "metadata": {},
   "source": [
    "## 2-D visualizations (aka scatter plots)\n",
    "\n",
    "It seems simple. It's not simple. mainly because...\n",
    "\n",
    "**CORRELATION =/= CAUSATION**\n",
    "\n",
    "Comparing variables to one another can be TRICKY!\n",
    "\n",
    "Let's make some 2-D visualizations (aka scatter plots).\n",
    "\n",
    "Be VERY careful how you phrase the headlines. Take time to think through what you want to say.\n",
    "\n",
    "\n"
   ]
  },
  {
   "cell_type": "code",
   "execution_count": 11,
   "metadata": {},
   "outputs": [
    {
     "name": "stderr",
     "output_type": "stream",
     "text": [
      "R[write to console]: In addition: \n",
      "R[write to console]: Warning message:\n",
      "\n",
      "R[write to console]: Removed 48826 rows containing missing values (`geom_point()`). \n",
      "\n"
     ]
    },
    {
     "data": {
      "image/png": "[encoded data removed]",
      "text/plain": [
       "<IPython.core.display.Image object>"
      ]
     },
     "metadata": {},
     "output_type": "display_data"
    }
   ],
   "source": [
    "%%R\n",
    "\n",
    "\n",
    "\n",
    "ggplot(df, aes(x = school_kids, y = NUMBER.OF.PERSONS.INJURED)) +\n",
    "  geom_point() +\n",
    "  labs(x = \"Number of school kids\", y = \"NUMBER.OF.PERSONS.INJURED\") +\n",
    "  theme_minimal()\n"
   ]
  },
  {
   "cell_type": "code",
   "execution_count": null,
   "metadata": {},
   "outputs": [],
   "source": []
  }
 ],
 "metadata": {
  "kernelspec": {
   "display_name": "Python 3",
   "language": "python",
   "name": "python3"
  },
  "language_info": {
   "codemirror_mode": {
    "name": "ipython",
    "version": 3
   },
   "file_extension": ".py",
   "mimetype": "text/x-python",
   "name": "python",
   "nbconvert_exporter": "python",
   "pygments_lexer": "ipython3",
   "version": "3.11.6"
  },
  "vscode": {
   "interpreter": {
    "hash": "34166945ca6cc351f9d38b360afe1a928411c84fd696a9e2d08d61ef3f7e4692"
   }
  }
 },
 "nbformat": 4,
 "nbformat_minor": 2
}
